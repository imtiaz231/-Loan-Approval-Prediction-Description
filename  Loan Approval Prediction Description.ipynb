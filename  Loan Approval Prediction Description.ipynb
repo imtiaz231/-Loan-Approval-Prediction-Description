{
 "cells": [
  {
   "cell_type": "markdown",
   "id": "edf361d1-ba32-426c-b549-dbf684753ef4",
   "metadata": {},
   "source": [
    "                                                              Level 2\n",
    "                                                              Task 4 \n",
    "                                                     Loan Approval Prediction Description\n",
    "                                                         imtiaz ahmad\n",
    "                                                         elevvo.tech\n",
    "                                                         cairo,Egypt"
   ]
  },
  {
   "cell_type": "code",
   "execution_count": 54,
   "id": "f9415796-a379-404a-8c5e-8947c8fba399",
   "metadata": {},
   "outputs": [],
   "source": [
    "#import the standard labraries\n",
    "import pandas as pd\n",
    "import numpy as np\n",
    "from matplotlib import pyplot as plt\n",
    "import seaborn as sns\n",
    "\n",
    "from sklearn.model_selection import train_test_split\n",
    "from sklearn.preprocessing import StandardScaler, OneHotEncoder\n",
    "from sklearn.compose import ColumnTransformer\n",
    "from sklearn.pipeline import Pipeline\n",
    "from sklearn.impute import SimpleImputer\n",
    "from sklearn.linear_model import LogisticRegression\n",
    "from sklearn.tree import DecisionTreeClassifier\n",
    "from sklearn.metrics import classification_report, confusion_matrix, f1_score, precision_score, recall_score\n",
    "from imblearn.over_sampling import SMOTE\n",
    "from imblearn.pipeline import make_pipeline as make_imb_pipeline\n",
    "import warnings\n",
    "warnings.filterwarnings(\"ignore\")\n",
    "\n",
    "import plotly.express as px\n",
    "import plotly.subplots as sp\n",
    "import plotly.graph_objects as go"
   ]
  },
  {
   "cell_type": "code",
   "execution_count": 28,
   "id": "ef25ecb1-626c-4293-855a-0539c6b6f472",
   "metadata": {},
   "outputs": [],
   "source": [
    "#load the dataset\n",
    "df=pd.read_csv('loan_data_set.csv')"
   ]
  },
  {
   "cell_type": "code",
   "execution_count": 29,
   "id": "23c7f924-a743-4c22-913d-c4a8c1acc64d",
   "metadata": {},
   "outputs": [
    {
     "data": {
      "text/html": [
       "<div>\n",
       "<style scoped>\n",
       "    .dataframe tbody tr th:only-of-type {\n",
       "        vertical-align: middle;\n",
       "    }\n",
       "\n",
       "    .dataframe tbody tr th {\n",
       "        vertical-align: top;\n",
       "    }\n",
       "\n",
       "    .dataframe thead th {\n",
       "        text-align: right;\n",
       "    }\n",
       "</style>\n",
       "<table border=\"1\" class=\"dataframe\">\n",
       "  <thead>\n",
       "    <tr style=\"text-align: right;\">\n",
       "      <th></th>\n",
       "      <th>Loan_ID</th>\n",
       "      <th>Gender</th>\n",
       "      <th>Married</th>\n",
       "      <th>Dependents</th>\n",
       "      <th>Education</th>\n",
       "      <th>Self_Employed</th>\n",
       "      <th>ApplicantIncome</th>\n",
       "      <th>CoapplicantIncome</th>\n",
       "      <th>LoanAmount</th>\n",
       "      <th>Loan_Amount_Term</th>\n",
       "      <th>Credit_History</th>\n",
       "      <th>Property_Area</th>\n",
       "      <th>Loan_Status</th>\n",
       "    </tr>\n",
       "  </thead>\n",
       "  <tbody>\n",
       "    <tr>\n",
       "      <th>0</th>\n",
       "      <td>LP001002</td>\n",
       "      <td>Male</td>\n",
       "      <td>No</td>\n",
       "      <td>0</td>\n",
       "      <td>Graduate</td>\n",
       "      <td>No</td>\n",
       "      <td>5849</td>\n",
       "      <td>0.0</td>\n",
       "      <td>NaN</td>\n",
       "      <td>360.0</td>\n",
       "      <td>1.0</td>\n",
       "      <td>Urban</td>\n",
       "      <td>Y</td>\n",
       "    </tr>\n",
       "    <tr>\n",
       "      <th>1</th>\n",
       "      <td>LP001003</td>\n",
       "      <td>Male</td>\n",
       "      <td>Yes</td>\n",
       "      <td>1</td>\n",
       "      <td>Graduate</td>\n",
       "      <td>No</td>\n",
       "      <td>4583</td>\n",
       "      <td>1508.0</td>\n",
       "      <td>128.0</td>\n",
       "      <td>360.0</td>\n",
       "      <td>1.0</td>\n",
       "      <td>Rural</td>\n",
       "      <td>N</td>\n",
       "    </tr>\n",
       "    <tr>\n",
       "      <th>2</th>\n",
       "      <td>LP001005</td>\n",
       "      <td>Male</td>\n",
       "      <td>Yes</td>\n",
       "      <td>0</td>\n",
       "      <td>Graduate</td>\n",
       "      <td>Yes</td>\n",
       "      <td>3000</td>\n",
       "      <td>0.0</td>\n",
       "      <td>66.0</td>\n",
       "      <td>360.0</td>\n",
       "      <td>1.0</td>\n",
       "      <td>Urban</td>\n",
       "      <td>Y</td>\n",
       "    </tr>\n",
       "    <tr>\n",
       "      <th>3</th>\n",
       "      <td>LP001006</td>\n",
       "      <td>Male</td>\n",
       "      <td>Yes</td>\n",
       "      <td>0</td>\n",
       "      <td>Not Graduate</td>\n",
       "      <td>No</td>\n",
       "      <td>2583</td>\n",
       "      <td>2358.0</td>\n",
       "      <td>120.0</td>\n",
       "      <td>360.0</td>\n",
       "      <td>1.0</td>\n",
       "      <td>Urban</td>\n",
       "      <td>Y</td>\n",
       "    </tr>\n",
       "    <tr>\n",
       "      <th>4</th>\n",
       "      <td>LP001008</td>\n",
       "      <td>Male</td>\n",
       "      <td>No</td>\n",
       "      <td>0</td>\n",
       "      <td>Graduate</td>\n",
       "      <td>No</td>\n",
       "      <td>6000</td>\n",
       "      <td>0.0</td>\n",
       "      <td>141.0</td>\n",
       "      <td>360.0</td>\n",
       "      <td>1.0</td>\n",
       "      <td>Urban</td>\n",
       "      <td>Y</td>\n",
       "    </tr>\n",
       "  </tbody>\n",
       "</table>\n",
       "</div>"
      ],
      "text/plain": [
       "    Loan_ID Gender Married Dependents     Education Self_Employed  \\\n",
       "0  LP001002   Male      No          0      Graduate            No   \n",
       "1  LP001003   Male     Yes          1      Graduate            No   \n",
       "2  LP001005   Male     Yes          0      Graduate           Yes   \n",
       "3  LP001006   Male     Yes          0  Not Graduate            No   \n",
       "4  LP001008   Male      No          0      Graduate            No   \n",
       "\n",
       "   ApplicantIncome  CoapplicantIncome  LoanAmount  Loan_Amount_Term  \\\n",
       "0             5849                0.0         NaN             360.0   \n",
       "1             4583             1508.0       128.0             360.0   \n",
       "2             3000                0.0        66.0             360.0   \n",
       "3             2583             2358.0       120.0             360.0   \n",
       "4             6000                0.0       141.0             360.0   \n",
       "\n",
       "   Credit_History Property_Area Loan_Status  \n",
       "0             1.0         Urban           Y  \n",
       "1             1.0         Rural           N  \n",
       "2             1.0         Urban           Y  \n",
       "3             1.0         Urban           Y  \n",
       "4             1.0         Urban           Y  "
      ]
     },
     "execution_count": 29,
     "metadata": {},
     "output_type": "execute_result"
    }
   ],
   "source": [
    "#Show the data\n",
    "df.head()"
   ]
  },
  {
   "cell_type": "code",
   "execution_count": 30,
   "id": "a738bc2c-9b50-45a7-bcbb-1f0835c66e2d",
   "metadata": {},
   "outputs": [
    {
     "name": "stdout",
     "output_type": "stream",
     "text": [
      "<class 'pandas.core.frame.DataFrame'>\n",
      "RangeIndex: 614 entries, 0 to 613\n",
      "Data columns (total 13 columns):\n",
      " #   Column             Non-Null Count  Dtype  \n",
      "---  ------             --------------  -----  \n",
      " 0   Loan_ID            614 non-null    object \n",
      " 1   Gender             601 non-null    object \n",
      " 2   Married            611 non-null    object \n",
      " 3   Dependents         599 non-null    object \n",
      " 4   Education          614 non-null    object \n",
      " 5   Self_Employed      582 non-null    object \n",
      " 6   ApplicantIncome    614 non-null    int64  \n",
      " 7   CoapplicantIncome  614 non-null    float64\n",
      " 8   LoanAmount         592 non-null    float64\n",
      " 9   Loan_Amount_Term   600 non-null    float64\n",
      " 10  Credit_History     564 non-null    float64\n",
      " 11  Property_Area      614 non-null    object \n",
      " 12  Loan_Status        614 non-null    object \n",
      "dtypes: float64(4), int64(1), object(8)\n",
      "memory usage: 62.5+ KB\n"
     ]
    }
   ],
   "source": [
    "df.info()"
   ]
  },
  {
   "cell_type": "code",
   "execution_count": 31,
   "id": "397e5edb-7f6d-4b50-b50c-591b50356a70",
   "metadata": {},
   "outputs": [
    {
     "data": {
      "text/html": [
       "<div>\n",
       "<style scoped>\n",
       "    .dataframe tbody tr th:only-of-type {\n",
       "        vertical-align: middle;\n",
       "    }\n",
       "\n",
       "    .dataframe tbody tr th {\n",
       "        vertical-align: top;\n",
       "    }\n",
       "\n",
       "    .dataframe thead th {\n",
       "        text-align: right;\n",
       "    }\n",
       "</style>\n",
       "<table border=\"1\" class=\"dataframe\">\n",
       "  <thead>\n",
       "    <tr style=\"text-align: right;\">\n",
       "      <th></th>\n",
       "      <th>Loan_ID</th>\n",
       "      <th>Gender</th>\n",
       "      <th>Married</th>\n",
       "      <th>Dependents</th>\n",
       "      <th>Education</th>\n",
       "      <th>Self_Employed</th>\n",
       "      <th>ApplicantIncome</th>\n",
       "      <th>CoapplicantIncome</th>\n",
       "      <th>LoanAmount</th>\n",
       "      <th>Loan_Amount_Term</th>\n",
       "      <th>Credit_History</th>\n",
       "      <th>Property_Area</th>\n",
       "      <th>Loan_Status</th>\n",
       "    </tr>\n",
       "  </thead>\n",
       "  <tbody>\n",
       "    <tr>\n",
       "      <th>count</th>\n",
       "      <td>614</td>\n",
       "      <td>601</td>\n",
       "      <td>611</td>\n",
       "      <td>599</td>\n",
       "      <td>614</td>\n",
       "      <td>582</td>\n",
       "      <td>614.000000</td>\n",
       "      <td>614.000000</td>\n",
       "      <td>592.000000</td>\n",
       "      <td>600.00000</td>\n",
       "      <td>564.000000</td>\n",
       "      <td>614</td>\n",
       "      <td>614</td>\n",
       "    </tr>\n",
       "    <tr>\n",
       "      <th>unique</th>\n",
       "      <td>614</td>\n",
       "      <td>2</td>\n",
       "      <td>2</td>\n",
       "      <td>4</td>\n",
       "      <td>2</td>\n",
       "      <td>2</td>\n",
       "      <td>NaN</td>\n",
       "      <td>NaN</td>\n",
       "      <td>NaN</td>\n",
       "      <td>NaN</td>\n",
       "      <td>NaN</td>\n",
       "      <td>3</td>\n",
       "      <td>2</td>\n",
       "    </tr>\n",
       "    <tr>\n",
       "      <th>top</th>\n",
       "      <td>LP001002</td>\n",
       "      <td>Male</td>\n",
       "      <td>Yes</td>\n",
       "      <td>0</td>\n",
       "      <td>Graduate</td>\n",
       "      <td>No</td>\n",
       "      <td>NaN</td>\n",
       "      <td>NaN</td>\n",
       "      <td>NaN</td>\n",
       "      <td>NaN</td>\n",
       "      <td>NaN</td>\n",
       "      <td>Semiurban</td>\n",
       "      <td>Y</td>\n",
       "    </tr>\n",
       "    <tr>\n",
       "      <th>freq</th>\n",
       "      <td>1</td>\n",
       "      <td>489</td>\n",
       "      <td>398</td>\n",
       "      <td>345</td>\n",
       "      <td>480</td>\n",
       "      <td>500</td>\n",
       "      <td>NaN</td>\n",
       "      <td>NaN</td>\n",
       "      <td>NaN</td>\n",
       "      <td>NaN</td>\n",
       "      <td>NaN</td>\n",
       "      <td>233</td>\n",
       "      <td>422</td>\n",
       "    </tr>\n",
       "    <tr>\n",
       "      <th>mean</th>\n",
       "      <td>NaN</td>\n",
       "      <td>NaN</td>\n",
       "      <td>NaN</td>\n",
       "      <td>NaN</td>\n",
       "      <td>NaN</td>\n",
       "      <td>NaN</td>\n",
       "      <td>5403.459283</td>\n",
       "      <td>1621.245798</td>\n",
       "      <td>146.412162</td>\n",
       "      <td>342.00000</td>\n",
       "      <td>0.842199</td>\n",
       "      <td>NaN</td>\n",
       "      <td>NaN</td>\n",
       "    </tr>\n",
       "    <tr>\n",
       "      <th>std</th>\n",
       "      <td>NaN</td>\n",
       "      <td>NaN</td>\n",
       "      <td>NaN</td>\n",
       "      <td>NaN</td>\n",
       "      <td>NaN</td>\n",
       "      <td>NaN</td>\n",
       "      <td>6109.041673</td>\n",
       "      <td>2926.248369</td>\n",
       "      <td>85.587325</td>\n",
       "      <td>65.12041</td>\n",
       "      <td>0.364878</td>\n",
       "      <td>NaN</td>\n",
       "      <td>NaN</td>\n",
       "    </tr>\n",
       "    <tr>\n",
       "      <th>min</th>\n",
       "      <td>NaN</td>\n",
       "      <td>NaN</td>\n",
       "      <td>NaN</td>\n",
       "      <td>NaN</td>\n",
       "      <td>NaN</td>\n",
       "      <td>NaN</td>\n",
       "      <td>150.000000</td>\n",
       "      <td>0.000000</td>\n",
       "      <td>9.000000</td>\n",
       "      <td>12.00000</td>\n",
       "      <td>0.000000</td>\n",
       "      <td>NaN</td>\n",
       "      <td>NaN</td>\n",
       "    </tr>\n",
       "    <tr>\n",
       "      <th>25%</th>\n",
       "      <td>NaN</td>\n",
       "      <td>NaN</td>\n",
       "      <td>NaN</td>\n",
       "      <td>NaN</td>\n",
       "      <td>NaN</td>\n",
       "      <td>NaN</td>\n",
       "      <td>2877.500000</td>\n",
       "      <td>0.000000</td>\n",
       "      <td>100.000000</td>\n",
       "      <td>360.00000</td>\n",
       "      <td>1.000000</td>\n",
       "      <td>NaN</td>\n",
       "      <td>NaN</td>\n",
       "    </tr>\n",
       "    <tr>\n",
       "      <th>50%</th>\n",
       "      <td>NaN</td>\n",
       "      <td>NaN</td>\n",
       "      <td>NaN</td>\n",
       "      <td>NaN</td>\n",
       "      <td>NaN</td>\n",
       "      <td>NaN</td>\n",
       "      <td>3812.500000</td>\n",
       "      <td>1188.500000</td>\n",
       "      <td>128.000000</td>\n",
       "      <td>360.00000</td>\n",
       "      <td>1.000000</td>\n",
       "      <td>NaN</td>\n",
       "      <td>NaN</td>\n",
       "    </tr>\n",
       "    <tr>\n",
       "      <th>75%</th>\n",
       "      <td>NaN</td>\n",
       "      <td>NaN</td>\n",
       "      <td>NaN</td>\n",
       "      <td>NaN</td>\n",
       "      <td>NaN</td>\n",
       "      <td>NaN</td>\n",
       "      <td>5795.000000</td>\n",
       "      <td>2297.250000</td>\n",
       "      <td>168.000000</td>\n",
       "      <td>360.00000</td>\n",
       "      <td>1.000000</td>\n",
       "      <td>NaN</td>\n",
       "      <td>NaN</td>\n",
       "    </tr>\n",
       "    <tr>\n",
       "      <th>max</th>\n",
       "      <td>NaN</td>\n",
       "      <td>NaN</td>\n",
       "      <td>NaN</td>\n",
       "      <td>NaN</td>\n",
       "      <td>NaN</td>\n",
       "      <td>NaN</td>\n",
       "      <td>81000.000000</td>\n",
       "      <td>41667.000000</td>\n",
       "      <td>700.000000</td>\n",
       "      <td>480.00000</td>\n",
       "      <td>1.000000</td>\n",
       "      <td>NaN</td>\n",
       "      <td>NaN</td>\n",
       "    </tr>\n",
       "  </tbody>\n",
       "</table>\n",
       "</div>"
      ],
      "text/plain": [
       "         Loan_ID Gender Married Dependents Education Self_Employed  \\\n",
       "count        614    601     611        599       614           582   \n",
       "unique       614      2       2          4         2             2   \n",
       "top     LP001002   Male     Yes          0  Graduate            No   \n",
       "freq           1    489     398        345       480           500   \n",
       "mean         NaN    NaN     NaN        NaN       NaN           NaN   \n",
       "std          NaN    NaN     NaN        NaN       NaN           NaN   \n",
       "min          NaN    NaN     NaN        NaN       NaN           NaN   \n",
       "25%          NaN    NaN     NaN        NaN       NaN           NaN   \n",
       "50%          NaN    NaN     NaN        NaN       NaN           NaN   \n",
       "75%          NaN    NaN     NaN        NaN       NaN           NaN   \n",
       "max          NaN    NaN     NaN        NaN       NaN           NaN   \n",
       "\n",
       "        ApplicantIncome  CoapplicantIncome  LoanAmount  Loan_Amount_Term  \\\n",
       "count        614.000000         614.000000  592.000000         600.00000   \n",
       "unique              NaN                NaN         NaN               NaN   \n",
       "top                 NaN                NaN         NaN               NaN   \n",
       "freq                NaN                NaN         NaN               NaN   \n",
       "mean        5403.459283        1621.245798  146.412162         342.00000   \n",
       "std         6109.041673        2926.248369   85.587325          65.12041   \n",
       "min          150.000000           0.000000    9.000000          12.00000   \n",
       "25%         2877.500000           0.000000  100.000000         360.00000   \n",
       "50%         3812.500000        1188.500000  128.000000         360.00000   \n",
       "75%         5795.000000        2297.250000  168.000000         360.00000   \n",
       "max        81000.000000       41667.000000  700.000000         480.00000   \n",
       "\n",
       "        Credit_History Property_Area Loan_Status  \n",
       "count       564.000000           614         614  \n",
       "unique             NaN             3           2  \n",
       "top                NaN     Semiurban           Y  \n",
       "freq               NaN           233         422  \n",
       "mean          0.842199           NaN         NaN  \n",
       "std           0.364878           NaN         NaN  \n",
       "min           0.000000           NaN         NaN  \n",
       "25%           1.000000           NaN         NaN  \n",
       "50%           1.000000           NaN         NaN  \n",
       "75%           1.000000           NaN         NaN  \n",
       "max           1.000000           NaN         NaN  "
      ]
     },
     "execution_count": 31,
     "metadata": {},
     "output_type": "execute_result"
    }
   ],
   "source": [
    "df.describe(include='all')\n"
   ]
  },
  {
   "cell_type": "code",
   "execution_count": 32,
   "id": "1b3b49ce-3069-4006-a7ce-553d0dfbb4d8",
   "metadata": {},
   "outputs": [
    {
     "name": "stdout",
     "output_type": "stream",
     "text": [
      "Loan_Status\n",
      "Y    0.687296\n",
      "N    0.312704\n",
      "Name: proportion, dtype: float64\n"
     ]
    }
   ],
   "source": [
    "print(df['Loan_Status'].value_counts(normalize=True))"
   ]
  },
  {
   "cell_type": "code",
   "execution_count": 33,
   "id": "cf47e0d6-ce42-4c85-8806-3e21fc9fa5f9",
   "metadata": {},
   "outputs": [],
   "source": [
    "#  Fill Categorical Columns\n",
    "df['Gender'].fillna(df['Gender'].mode()[0], inplace=True)\n",
    "df['Married'].fillna(df['Married'].mode()[0], inplace=True)\n",
    "df['Dependents'].fillna(df['Dependents'].mode()[0], inplace=True)\n",
    "df['Self_Employed'].fillna(df['Self_Employed'].mode()[0], inplace=True)\n",
    "df['Credit_History'].fillna(df['Credit_History'].mode()[0], inplace=True)\n",
    "\n",
    "# Fill Numerical Columns\n",
    "df['LoanAmount'].fillna(df['LoanAmount'].median(), inplace=True)\n",
    "df['Loan_Amount_Term'].fillna(df['Loan_Amount_Term'].mode()[0], inplace=True)\n"
   ]
  },
  {
   "cell_type": "code",
   "execution_count": 34,
   "id": "b2eba37e-8f4f-4c32-adeb-2ca42e955a62",
   "metadata": {},
   "outputs": [
    {
     "data": {
      "text/plain": [
       "Loan_ID              0\n",
       "Gender               0\n",
       "Married              0\n",
       "Dependents           0\n",
       "Education            0\n",
       "Self_Employed        0\n",
       "ApplicantIncome      0\n",
       "CoapplicantIncome    0\n",
       "LoanAmount           0\n",
       "Loan_Amount_Term     0\n",
       "Credit_History       0\n",
       "Property_Area        0\n",
       "Loan_Status          0\n",
       "dtype: int64"
      ]
     },
     "execution_count": 34,
     "metadata": {},
     "output_type": "execute_result"
    }
   ],
   "source": [
    "# check missing values\n",
    "df.isnull().sum()"
   ]
  },
  {
   "cell_type": "code",
   "execution_count": 35,
   "id": "756d47fb-ad68-4b16-a156-c4ddda8bb1cd",
   "metadata": {},
   "outputs": [
    {
     "data": {
      "text/html": [
       "<div>\n",
       "<style scoped>\n",
       "    .dataframe tbody tr th:only-of-type {\n",
       "        vertical-align: middle;\n",
       "    }\n",
       "\n",
       "    .dataframe tbody tr th {\n",
       "        vertical-align: top;\n",
       "    }\n",
       "\n",
       "    .dataframe thead th {\n",
       "        text-align: right;\n",
       "    }\n",
       "</style>\n",
       "<table border=\"1\" class=\"dataframe\">\n",
       "  <thead>\n",
       "    <tr style=\"text-align: right;\">\n",
       "      <th></th>\n",
       "      <th>Loan_ID</th>\n",
       "      <th>Gender</th>\n",
       "      <th>Married</th>\n",
       "      <th>Dependents</th>\n",
       "      <th>Education</th>\n",
       "      <th>Self_Employed</th>\n",
       "      <th>ApplicantIncome</th>\n",
       "      <th>CoapplicantIncome</th>\n",
       "      <th>LoanAmount</th>\n",
       "      <th>Loan_Amount_Term</th>\n",
       "      <th>Credit_History</th>\n",
       "      <th>Property_Area</th>\n",
       "      <th>Loan_Status</th>\n",
       "    </tr>\n",
       "  </thead>\n",
       "  <tbody>\n",
       "    <tr>\n",
       "      <th>0</th>\n",
       "      <td>LP001002</td>\n",
       "      <td>Male</td>\n",
       "      <td>No</td>\n",
       "      <td>0</td>\n",
       "      <td>Graduate</td>\n",
       "      <td>No</td>\n",
       "      <td>5849</td>\n",
       "      <td>0.0</td>\n",
       "      <td>128.0</td>\n",
       "      <td>360.0</td>\n",
       "      <td>1.0</td>\n",
       "      <td>Urban</td>\n",
       "      <td>Y</td>\n",
       "    </tr>\n",
       "    <tr>\n",
       "      <th>1</th>\n",
       "      <td>LP001003</td>\n",
       "      <td>Male</td>\n",
       "      <td>Yes</td>\n",
       "      <td>1</td>\n",
       "      <td>Graduate</td>\n",
       "      <td>No</td>\n",
       "      <td>4583</td>\n",
       "      <td>1508.0</td>\n",
       "      <td>128.0</td>\n",
       "      <td>360.0</td>\n",
       "      <td>1.0</td>\n",
       "      <td>Rural</td>\n",
       "      <td>N</td>\n",
       "    </tr>\n",
       "    <tr>\n",
       "      <th>2</th>\n",
       "      <td>LP001005</td>\n",
       "      <td>Male</td>\n",
       "      <td>Yes</td>\n",
       "      <td>0</td>\n",
       "      <td>Graduate</td>\n",
       "      <td>Yes</td>\n",
       "      <td>3000</td>\n",
       "      <td>0.0</td>\n",
       "      <td>66.0</td>\n",
       "      <td>360.0</td>\n",
       "      <td>1.0</td>\n",
       "      <td>Urban</td>\n",
       "      <td>Y</td>\n",
       "    </tr>\n",
       "    <tr>\n",
       "      <th>3</th>\n",
       "      <td>LP001006</td>\n",
       "      <td>Male</td>\n",
       "      <td>Yes</td>\n",
       "      <td>0</td>\n",
       "      <td>Not Graduate</td>\n",
       "      <td>No</td>\n",
       "      <td>2583</td>\n",
       "      <td>2358.0</td>\n",
       "      <td>120.0</td>\n",
       "      <td>360.0</td>\n",
       "      <td>1.0</td>\n",
       "      <td>Urban</td>\n",
       "      <td>Y</td>\n",
       "    </tr>\n",
       "    <tr>\n",
       "      <th>4</th>\n",
       "      <td>LP001008</td>\n",
       "      <td>Male</td>\n",
       "      <td>No</td>\n",
       "      <td>0</td>\n",
       "      <td>Graduate</td>\n",
       "      <td>No</td>\n",
       "      <td>6000</td>\n",
       "      <td>0.0</td>\n",
       "      <td>141.0</td>\n",
       "      <td>360.0</td>\n",
       "      <td>1.0</td>\n",
       "      <td>Urban</td>\n",
       "      <td>Y</td>\n",
       "    </tr>\n",
       "  </tbody>\n",
       "</table>\n",
       "</div>"
      ],
      "text/plain": [
       "    Loan_ID Gender Married Dependents     Education Self_Employed  \\\n",
       "0  LP001002   Male      No          0      Graduate            No   \n",
       "1  LP001003   Male     Yes          1      Graduate            No   \n",
       "2  LP001005   Male     Yes          0      Graduate           Yes   \n",
       "3  LP001006   Male     Yes          0  Not Graduate            No   \n",
       "4  LP001008   Male      No          0      Graduate            No   \n",
       "\n",
       "   ApplicantIncome  CoapplicantIncome  LoanAmount  Loan_Amount_Term  \\\n",
       "0             5849                0.0       128.0             360.0   \n",
       "1             4583             1508.0       128.0             360.0   \n",
       "2             3000                0.0        66.0             360.0   \n",
       "3             2583             2358.0       120.0             360.0   \n",
       "4             6000                0.0       141.0             360.0   \n",
       "\n",
       "   Credit_History Property_Area Loan_Status  \n",
       "0             1.0         Urban           Y  \n",
       "1             1.0         Rural           N  \n",
       "2             1.0         Urban           Y  \n",
       "3             1.0         Urban           Y  \n",
       "4             1.0         Urban           Y  "
      ]
     },
     "execution_count": 35,
     "metadata": {},
     "output_type": "execute_result"
    }
   ],
   "source": [
    "df.head()"
   ]
  },
  {
   "cell_type": "markdown",
   "id": "def8ee6a-f484-43eb-a147-05fdb6737948",
   "metadata": {},
   "source": [
    "# Visualization "
   ]
  },
  {
   "cell_type": "markdown",
   "id": "d3e01f6a-e32e-4b66-940d-119e1618b60b",
   "metadata": {},
   "source": [
    "# Loan Approval Rate (Loan_Status)"
   ]
  },
  {
   "cell_type": "code",
   "execution_count": 40,
   "id": "d18864cf-5879-4c83-b84b-b0070aa7ff29",
   "metadata": {},
   "outputs": [
    {
     "data": {
      "application/vnd.plotly.v1+json": {
       "config": {
        "plotlyServerURL": "https://plot.ly"
       },
       "data": [
        {
         "domain": {
          "x": [
           0,
           1
          ],
          "y": [
           0,
           1
          ]
         },
         "hole": 0.4,
         "hovertemplate": "Loan_Status=%{label}<extra></extra>",
         "labels": [
          "Y",
          "N",
          "Y",
          "Y",
          "Y",
          "Y",
          "Y",
          "N",
          "Y",
          "N",
          "Y",
          "Y",
          "Y",
          "N",
          "Y",
          "Y",
          "Y",
          "N",
          "N",
          "Y",
          "N",
          "Y",
          "N",
          "N",
          "N",
          "Y",
          "Y",
          "Y",
          "N",
          "Y",
          "N",
          "N",
          "N",
          "Y",
          "N",
          "Y",
          "N",
          "Y",
          "Y",
          "Y",
          "N",
          "Y",
          "Y",
          "Y",
          "Y",
          "Y",
          "Y",
          "Y",
          "N",
          "Y",
          "Y",
          "Y",
          "N",
          "N",
          "N",
          "Y",
          "Y",
          "N",
          "Y",
          "Y",
          "Y",
          "Y",
          "N",
          "N",
          "N",
          "N",
          "N",
          "Y",
          "Y",
          "N",
          "Y",
          "Y",
          "Y",
          "N",
          "Y",
          "N",
          "N",
          "N",
          "N",
          "Y",
          "Y",
          "Y",
          "N",
          "N",
          "Y",
          "Y",
          "Y",
          "Y",
          "Y",
          "Y",
          "Y",
          "Y",
          "Y",
          "Y",
          "Y",
          "N",
          "Y",
          "Y",
          "Y",
          "Y",
          "Y",
          "Y",
          "Y",
          "Y",
          "Y",
          "Y",
          "Y",
          "N",
          "N",
          "Y",
          "Y",
          "Y",
          "N",
          "Y",
          "Y",
          "Y",
          "Y",
          "Y",
          "N",
          "Y",
          "Y",
          "Y",
          "Y",
          "Y",
          "Y",
          "Y",
          "Y",
          "Y",
          "N",
          "N",
          "Y",
          "Y",
          "Y",
          "Y",
          "Y",
          "N",
          "N",
          "Y",
          "N",
          "N",
          "N",
          "Y",
          "Y",
          "Y",
          "Y",
          "Y",
          "Y",
          "Y",
          "N",
          "Y",
          "N",
          "Y",
          "N",
          "N",
          "Y",
          "Y",
          "Y",
          "Y",
          "Y",
          "Y",
          "Y",
          "N",
          "N",
          "Y",
          "Y",
          "Y",
          "N",
          "Y",
          "N",
          "Y",
          "Y",
          "Y",
          "N",
          "Y",
          "N",
          "Y",
          "Y",
          "N",
          "Y",
          "N",
          "N",
          "N",
          "Y",
          "N",
          "Y",
          "Y",
          "N",
          "Y",
          "Y",
          "Y",
          "Y",
          "N",
          "N",
          "Y",
          "Y",
          "N",
          "Y",
          "Y",
          "Y",
          "N",
          "Y",
          "Y",
          "N",
          "Y",
          "Y",
          "Y",
          "Y",
          "Y",
          "Y",
          "N",
          "N",
          "N",
          "Y",
          "Y",
          "Y",
          "Y",
          "N",
          "Y",
          "N",
          "Y",
          "N",
          "Y",
          "Y",
          "Y",
          "Y",
          "N",
          "N",
          "Y",
          "Y",
          "Y",
          "Y",
          "Y",
          "Y",
          "Y",
          "Y",
          "Y",
          "N",
          "Y",
          "Y",
          "Y",
          "Y",
          "N",
          "Y",
          "Y",
          "Y",
          "N",
          "Y",
          "Y",
          "Y",
          "Y",
          "N",
          "N",
          "Y",
          "Y",
          "N",
          "Y",
          "N",
          "N",
          "N",
          "N",
          "Y",
          "Y",
          "N",
          "Y",
          "Y",
          "Y",
          "Y",
          "Y",
          "N",
          "Y",
          "Y",
          "Y",
          "Y",
          "Y",
          "Y",
          "Y",
          "Y",
          "Y",
          "Y",
          "Y",
          "N",
          "Y",
          "Y",
          "Y",
          "N",
          "Y",
          "N",
          "Y",
          "Y",
          "Y",
          "Y",
          "N",
          "Y",
          "N",
          "Y",
          "Y",
          "Y",
          "Y",
          "N",
          "N",
          "N",
          "Y",
          "Y",
          "Y",
          "Y",
          "N",
          "Y",
          "N",
          "N",
          "Y",
          "Y",
          "Y",
          "Y",
          "Y",
          "N",
          "Y",
          "Y",
          "Y",
          "Y",
          "N",
          "Y",
          "Y",
          "Y",
          "Y",
          "Y",
          "N",
          "Y",
          "Y",
          "N",
          "Y",
          "Y",
          "Y",
          "Y",
          "Y",
          "Y",
          "Y",
          "Y",
          "Y",
          "N",
          "Y",
          "N",
          "N",
          "Y",
          "Y",
          "Y",
          "Y",
          "N",
          "Y",
          "Y",
          "Y",
          "Y",
          "N",
          "Y",
          "N",
          "Y",
          "Y",
          "Y",
          "N",
          "N",
          "Y",
          "N",
          "Y",
          "Y",
          "Y",
          "Y",
          "N",
          "N",
          "N",
          "Y",
          "N",
          "Y",
          "Y",
          "Y",
          "N",
          "Y",
          "Y",
          "Y",
          "Y",
          "N",
          "Y",
          "Y",
          "Y",
          "Y",
          "Y",
          "N",
          "Y",
          "Y",
          "N",
          "Y",
          "Y",
          "Y",
          "Y",
          "Y",
          "Y",
          "Y",
          "Y",
          "N",
          "Y",
          "Y",
          "N",
          "N",
          "N",
          "Y",
          "Y",
          "N",
          "Y",
          "Y",
          "Y",
          "N",
          "N",
          "N",
          "Y",
          "N",
          "Y",
          "N",
          "Y",
          "N",
          "N",
          "Y",
          "Y",
          "Y",
          "N",
          "Y",
          "N",
          "Y",
          "Y",
          "N",
          "Y",
          "Y",
          "Y",
          "Y",
          "N",
          "Y",
          "Y",
          "Y",
          "Y",
          "Y",
          "Y",
          "N",
          "Y",
          "Y",
          "Y",
          "Y",
          "Y",
          "Y",
          "Y",
          "Y",
          "N",
          "N",
          "N",
          "N",
          "Y",
          "N",
          "Y",
          "Y",
          "Y",
          "Y",
          "N",
          "Y",
          "N",
          "Y",
          "Y",
          "Y",
          "Y",
          "N",
          "Y",
          "N",
          "Y",
          "Y",
          "N",
          "Y",
          "N",
          "Y",
          "Y",
          "Y",
          "Y",
          "Y",
          "N",
          "Y",
          "N",
          "Y",
          "Y",
          "Y",
          "Y",
          "Y",
          "Y",
          "N",
          "N",
          "Y",
          "N",
          "Y",
          "Y",
          "Y",
          "Y",
          "N",
          "Y",
          "Y",
          "Y",
          "Y",
          "N",
          "Y",
          "Y",
          "Y",
          "N",
          "Y",
          "Y",
          "Y",
          "N",
          "Y",
          "Y",
          "N",
          "Y",
          "Y",
          "N",
          "N",
          "Y",
          "Y",
          "N",
          "N",
          "N",
          "Y",
          "Y",
          "Y",
          "Y",
          "N",
          "Y",
          "Y",
          "Y",
          "Y",
          "Y",
          "Y",
          "Y",
          "N",
          "N",
          "Y",
          "Y",
          "Y",
          "Y",
          "N",
          "Y",
          "Y",
          "N",
          "Y",
          "Y",
          "Y",
          "Y",
          "N",
          "Y",
          "N",
          "Y",
          "N",
          "Y",
          "Y",
          "N",
          "N",
          "Y",
          "Y",
          "Y",
          "Y",
          "Y",
          "Y",
          "Y",
          "Y",
          "Y",
          "N",
          "Y",
          "Y",
          "N",
          "N",
          "N",
          "Y",
          "N",
          "Y",
          "N",
          "N",
          "Y",
          "N",
          "Y",
          "Y",
          "Y",
          "Y",
          "N",
          "Y",
          "N",
          "N",
          "N",
          "Y",
          "Y",
          "Y",
          "N",
          "Y",
          "N",
          "Y",
          "Y",
          "Y",
          "Y",
          "N",
          "N",
          "Y",
          "Y",
          "N",
          "Y",
          "Y",
          "Y",
          "Y",
          "N",
          "Y",
          "Y",
          "Y",
          "Y",
          "Y",
          "Y",
          "Y",
          "N"
         ],
         "legendgroup": "",
         "name": "",
         "showlegend": true,
         "textinfo": "percent+label",
         "type": "pie"
        }
       ],
       "layout": {
        "autosize": true,
        "legend": {
         "tracegroupgap": 0
        },
        "piecolorway": [
         "#264653",
         "#e76f51"
        ],
        "template": {
         "data": {
          "bar": [
           {
            "error_x": {
             "color": "#2a3f5f"
            },
            "error_y": {
             "color": "#2a3f5f"
            },
            "marker": {
             "line": {
              "color": "#E5ECF6",
              "width": 0.5
             },
             "pattern": {
              "fillmode": "overlay",
              "size": 10,
              "solidity": 0.2
             }
            },
            "type": "bar"
           }
          ],
          "barpolar": [
           {
            "marker": {
             "line": {
              "color": "#E5ECF6",
              "width": 0.5
             },
             "pattern": {
              "fillmode": "overlay",
              "size": 10,
              "solidity": 0.2
             }
            },
            "type": "barpolar"
           }
          ],
          "carpet": [
           {
            "aaxis": {
             "endlinecolor": "#2a3f5f",
             "gridcolor": "white",
             "linecolor": "white",
             "minorgridcolor": "white",
             "startlinecolor": "#2a3f5f"
            },
            "baxis": {
             "endlinecolor": "#2a3f5f",
             "gridcolor": "white",
             "linecolor": "white",
             "minorgridcolor": "white",
             "startlinecolor": "#2a3f5f"
            },
            "type": "carpet"
           }
          ],
          "choropleth": [
           {
            "colorbar": {
             "outlinewidth": 0,
             "ticks": ""
            },
            "type": "choropleth"
           }
          ],
          "contour": [
           {
            "colorbar": {
             "outlinewidth": 0,
             "ticks": ""
            },
            "colorscale": [
             [
              0,
              "#0d0887"
             ],
             [
              0.1111111111111111,
              "#46039f"
             ],
             [
              0.2222222222222222,
              "#7201a8"
             ],
             [
              0.3333333333333333,
              "#9c179e"
             ],
             [
              0.4444444444444444,
              "#bd3786"
             ],
             [
              0.5555555555555556,
              "#d8576b"
             ],
             [
              0.6666666666666666,
              "#ed7953"
             ],
             [
              0.7777777777777778,
              "#fb9f3a"
             ],
             [
              0.8888888888888888,
              "#fdca26"
             ],
             [
              1,
              "#f0f921"
             ]
            ],
            "type": "contour"
           }
          ],
          "contourcarpet": [
           {
            "colorbar": {
             "outlinewidth": 0,
             "ticks": ""
            },
            "type": "contourcarpet"
           }
          ],
          "heatmap": [
           {
            "colorbar": {
             "outlinewidth": 0,
             "ticks": ""
            },
            "colorscale": [
             [
              0,
              "#0d0887"
             ],
             [
              0.1111111111111111,
              "#46039f"
             ],
             [
              0.2222222222222222,
              "#7201a8"
             ],
             [
              0.3333333333333333,
              "#9c179e"
             ],
             [
              0.4444444444444444,
              "#bd3786"
             ],
             [
              0.5555555555555556,
              "#d8576b"
             ],
             [
              0.6666666666666666,
              "#ed7953"
             ],
             [
              0.7777777777777778,
              "#fb9f3a"
             ],
             [
              0.8888888888888888,
              "#fdca26"
             ],
             [
              1,
              "#f0f921"
             ]
            ],
            "type": "heatmap"
           }
          ],
          "histogram": [
           {
            "marker": {
             "pattern": {
              "fillmode": "overlay",
              "size": 10,
              "solidity": 0.2
             }
            },
            "type": "histogram"
           }
          ],
          "histogram2d": [
           {
            "colorbar": {
             "outlinewidth": 0,
             "ticks": ""
            },
            "colorscale": [
             [
              0,
              "#0d0887"
             ],
             [
              0.1111111111111111,
              "#46039f"
             ],
             [
              0.2222222222222222,
              "#7201a8"
             ],
             [
              0.3333333333333333,
              "#9c179e"
             ],
             [
              0.4444444444444444,
              "#bd3786"
             ],
             [
              0.5555555555555556,
              "#d8576b"
             ],
             [
              0.6666666666666666,
              "#ed7953"
             ],
             [
              0.7777777777777778,
              "#fb9f3a"
             ],
             [
              0.8888888888888888,
              "#fdca26"
             ],
             [
              1,
              "#f0f921"
             ]
            ],
            "type": "histogram2d"
           }
          ],
          "histogram2dcontour": [
           {
            "colorbar": {
             "outlinewidth": 0,
             "ticks": ""
            },
            "colorscale": [
             [
              0,
              "#0d0887"
             ],
             [
              0.1111111111111111,
              "#46039f"
             ],
             [
              0.2222222222222222,
              "#7201a8"
             ],
             [
              0.3333333333333333,
              "#9c179e"
             ],
             [
              0.4444444444444444,
              "#bd3786"
             ],
             [
              0.5555555555555556,
              "#d8576b"
             ],
             [
              0.6666666666666666,
              "#ed7953"
             ],
             [
              0.7777777777777778,
              "#fb9f3a"
             ],
             [
              0.8888888888888888,
              "#fdca26"
             ],
             [
              1,
              "#f0f921"
             ]
            ],
            "type": "histogram2dcontour"
           }
          ],
          "mesh3d": [
           {
            "colorbar": {
             "outlinewidth": 0,
             "ticks": ""
            },
            "type": "mesh3d"
           }
          ],
          "parcoords": [
           {
            "line": {
             "colorbar": {
              "outlinewidth": 0,
              "ticks": ""
             }
            },
            "type": "parcoords"
           }
          ],
          "pie": [
           {
            "automargin": true,
            "type": "pie"
           }
          ],
          "scatter": [
           {
            "fillpattern": {
             "fillmode": "overlay",
             "size": 10,
             "solidity": 0.2
            },
            "type": "scatter"
           }
          ],
          "scatter3d": [
           {
            "line": {
             "colorbar": {
              "outlinewidth": 0,
              "ticks": ""
             }
            },
            "marker": {
             "colorbar": {
              "outlinewidth": 0,
              "ticks": ""
             }
            },
            "type": "scatter3d"
           }
          ],
          "scattercarpet": [
           {
            "marker": {
             "colorbar": {
              "outlinewidth": 0,
              "ticks": ""
             }
            },
            "type": "scattercarpet"
           }
          ],
          "scattergeo": [
           {
            "marker": {
             "colorbar": {
              "outlinewidth": 0,
              "ticks": ""
             }
            },
            "type": "scattergeo"
           }
          ],
          "scattergl": [
           {
            "marker": {
             "colorbar": {
              "outlinewidth": 0,
              "ticks": ""
             }
            },
            "type": "scattergl"
           }
          ],
          "scattermap": [
           {
            "marker": {
             "colorbar": {
              "outlinewidth": 0,
              "ticks": ""
             }
            },
            "type": "scattermap"
           }
          ],
          "scattermapbox": [
           {
            "marker": {
             "colorbar": {
              "outlinewidth": 0,
              "ticks": ""
             }
            },
            "type": "scattermapbox"
           }
          ],
          "scatterpolar": [
           {
            "marker": {
             "colorbar": {
              "outlinewidth": 0,
              "ticks": ""
             }
            },
            "type": "scatterpolar"
           }
          ],
          "scatterpolargl": [
           {
            "marker": {
             "colorbar": {
              "outlinewidth": 0,
              "ticks": ""
             }
            },
            "type": "scatterpolargl"
           }
          ],
          "scatterternary": [
           {
            "marker": {
             "colorbar": {
              "outlinewidth": 0,
              "ticks": ""
             }
            },
            "type": "scatterternary"
           }
          ],
          "surface": [
           {
            "colorbar": {
             "outlinewidth": 0,
             "ticks": ""
            },
            "colorscale": [
             [
              0,
              "#0d0887"
             ],
             [
              0.1111111111111111,
              "#46039f"
             ],
             [
              0.2222222222222222,
              "#7201a8"
             ],
             [
              0.3333333333333333,
              "#9c179e"
             ],
             [
              0.4444444444444444,
              "#bd3786"
             ],
             [
              0.5555555555555556,
              "#d8576b"
             ],
             [
              0.6666666666666666,
              "#ed7953"
             ],
             [
              0.7777777777777778,
              "#fb9f3a"
             ],
             [
              0.8888888888888888,
              "#fdca26"
             ],
             [
              1,
              "#f0f921"
             ]
            ],
            "type": "surface"
           }
          ],
          "table": [
           {
            "cells": {
             "fill": {
              "color": "#EBF0F8"
             },
             "line": {
              "color": "white"
             }
            },
            "header": {
             "fill": {
              "color": "#C8D4E3"
             },
             "line": {
              "color": "white"
             }
            },
            "type": "table"
           }
          ]
         },
         "layout": {
          "annotationdefaults": {
           "arrowcolor": "#2a3f5f",
           "arrowhead": 0,
           "arrowwidth": 1
          },
          "autotypenumbers": "strict",
          "coloraxis": {
           "colorbar": {
            "outlinewidth": 0,
            "ticks": ""
           }
          },
          "colorscale": {
           "diverging": [
            [
             0,
             "#8e0152"
            ],
            [
             0.1,
             "#c51b7d"
            ],
            [
             0.2,
             "#de77ae"
            ],
            [
             0.3,
             "#f1b6da"
            ],
            [
             0.4,
             "#fde0ef"
            ],
            [
             0.5,
             "#f7f7f7"
            ],
            [
             0.6,
             "#e6f5d0"
            ],
            [
             0.7,
             "#b8e186"
            ],
            [
             0.8,
             "#7fbc41"
            ],
            [
             0.9,
             "#4d9221"
            ],
            [
             1,
             "#276419"
            ]
           ],
           "sequential": [
            [
             0,
             "#0d0887"
            ],
            [
             0.1111111111111111,
             "#46039f"
            ],
            [
             0.2222222222222222,
             "#7201a8"
            ],
            [
             0.3333333333333333,
             "#9c179e"
            ],
            [
             0.4444444444444444,
             "#bd3786"
            ],
            [
             0.5555555555555556,
             "#d8576b"
            ],
            [
             0.6666666666666666,
             "#ed7953"
            ],
            [
             0.7777777777777778,
             "#fb9f3a"
            ],
            [
             0.8888888888888888,
             "#fdca26"
            ],
            [
             1,
             "#f0f921"
            ]
           ],
           "sequentialminus": [
            [
             0,
             "#0d0887"
            ],
            [
             0.1111111111111111,
             "#46039f"
            ],
            [
             0.2222222222222222,
             "#7201a8"
            ],
            [
             0.3333333333333333,
             "#9c179e"
            ],
            [
             0.4444444444444444,
             "#bd3786"
            ],
            [
             0.5555555555555556,
             "#d8576b"
            ],
            [
             0.6666666666666666,
             "#ed7953"
            ],
            [
             0.7777777777777778,
             "#fb9f3a"
            ],
            [
             0.8888888888888888,
             "#fdca26"
            ],
            [
             1,
             "#f0f921"
            ]
           ]
          },
          "colorway": [
           "#636efa",
           "#EF553B",
           "#00cc96",
           "#ab63fa",
           "#FFA15A",
           "#19d3f3",
           "#FF6692",
           "#B6E880",
           "#FF97FF",
           "#FECB52"
          ],
          "font": {
           "color": "#2a3f5f"
          },
          "geo": {
           "bgcolor": "white",
           "lakecolor": "white",
           "landcolor": "#E5ECF6",
           "showlakes": true,
           "showland": true,
           "subunitcolor": "white"
          },
          "hoverlabel": {
           "align": "left"
          },
          "hovermode": "closest",
          "mapbox": {
           "style": "light"
          },
          "paper_bgcolor": "white",
          "plot_bgcolor": "#E5ECF6",
          "polar": {
           "angularaxis": {
            "gridcolor": "white",
            "linecolor": "white",
            "ticks": ""
           },
           "bgcolor": "#E5ECF6",
           "radialaxis": {
            "gridcolor": "white",
            "linecolor": "white",
            "ticks": ""
           }
          },
          "scene": {
           "xaxis": {
            "backgroundcolor": "#E5ECF6",
            "gridcolor": "white",
            "gridwidth": 2,
            "linecolor": "white",
            "showbackground": true,
            "ticks": "",
            "zerolinecolor": "white"
           },
           "yaxis": {
            "backgroundcolor": "#E5ECF6",
            "gridcolor": "white",
            "gridwidth": 2,
            "linecolor": "white",
            "showbackground": true,
            "ticks": "",
            "zerolinecolor": "white"
           },
           "zaxis": {
            "backgroundcolor": "#E5ECF6",
            "gridcolor": "white",
            "gridwidth": 2,
            "linecolor": "white",
            "showbackground": true,
            "ticks": "",
            "zerolinecolor": "white"
           }
          },
          "shapedefaults": {
           "line": {
            "color": "#2a3f5f"
           }
          },
          "ternary": {
           "aaxis": {
            "gridcolor": "white",
            "linecolor": "white",
            "ticks": ""
           },
           "baxis": {
            "gridcolor": "white",
            "linecolor": "white",
            "ticks": ""
           },
           "bgcolor": "#E5ECF6",
           "caxis": {
            "gridcolor": "white",
            "linecolor": "white",
            "ticks": ""
           }
          },
          "title": {
           "x": 0.05
          },
          "xaxis": {
           "automargin": true,
           "gridcolor": "white",
           "linecolor": "white",
           "ticks": "",
           "title": {
            "standoff": 15
           },
           "zerolinecolor": "white",
           "zerolinewidth": 2
          },
          "yaxis": {
           "automargin": true,
           "gridcolor": "white",
           "linecolor": "white",
           "ticks": "",
           "title": {
            "standoff": 15
           },
           "zerolinecolor": "white",
           "zerolinewidth": 2
          }
         }
        },
        "title": {
         "text": "Loan Approval Distribution"
        }
       }
      },
      "image/png": "[encoded data removed]"
     },
     "metadata": {},
     "output_type": "display_data"
    }
   ],
   "source": [
    "fig1 = px.pie(df, names='Loan_Status', title='Loan Approval Distribution',\n",
    "              color_discrete_sequence=['#264653', '#e76f51'],\n",
    "              hole=0.4)\n",
    "fig1.update_traces(textinfo='percent+label')\n",
    "fig1.show()"
   ]
  },
  {
   "cell_type": "markdown",
   "id": "37bd11b8-38e7-47de-abc1-15c400f9c214",
   "metadata": {},
   "source": [
    "# Loan Status by Property Area"
   ]
  },
  {
   "cell_type": "code",
   "execution_count": 41,
   "id": "86194400-0bda-4ca1-8f83-1516cc7b664d",
   "metadata": {},
   "outputs": [
    {
     "data": {
      "application/vnd.plotly.v1+json": {
       "config": {
        "plotlyServerURL": "https://plot.ly"
       },
       "data": [
        {
         "alignmentgroup": "True",
         "bingroup": "x",
         "hovertemplate": "Loan_Status=Y<br>Property_Area=%{x}<br>count=%{y}<extra></extra>",
         "legendgroup": "Y",
         "marker": {
          "color": "#2a9d8f",
          "pattern": {
           "shape": ""
          }
         },
         "name": "Y",
         "offsetgroup": "Y",
         "orientation": "v",
         "showlegend": true,
         "type": "histogram",
         "x": [
          "Urban",
          "Urban",
          "Urban",
          "Urban",
          "Urban",
          "Urban",
          "Urban",
          "Urban",
          "Urban",
          "Urban",
          "Urban",
          "Urban",
          "Urban",
          "Urban",
          "Urban",
          "Semiurban",
          "Semiurban",
          "Urban",
          "Semiurban",
          "Semiurban",
          "Urban",
          "Semiurban",
          "Urban",
          "Semiurban",
          "Urban",
          "Urban",
          "Semiurban",
          "Urban",
          "Urban",
          "Urban",
          "Urban",
          "Semiurban",
          "Semiurban",
          "Semiurban",
          "Semiurban",
          "Semiurban",
          "Urban",
          "Urban",
          "Urban",
          "Urban",
          "Urban",
          "Urban",
          "Urban",
          "Semiurban",
          "Semiurban",
          "Semiurban",
          "Semiurban",
          "Semiurban",
          "Semiurban",
          "Urban",
          "Semiurban",
          "Semiurban",
          "Semiurban",
          "Urban",
          "Semiurban",
          "Semiurban",
          "Semiurban",
          "Urban",
          "Semiurban",
          "Semiurban",
          "Semiurban",
          "Semiurban",
          "Semiurban",
          "Semiurban",
          "Urban",
          "Semiurban",
          "Urban",
          "Semiurban",
          "Urban",
          "Urban",
          "Urban",
          "Semiurban",
          "Urban",
          "Semiurban",
          "Semiurban",
          "Semiurban",
          "Rural",
          "Semiurban",
          "Urban",
          "Urban",
          "Rural",
          "Semiurban",
          "Semiurban",
          "Semiurban",
          "Rural",
          "Rural",
          "Rural",
          "Rural",
          "Urban",
          "Urban",
          "Semiurban",
          "Semiurban",
          "Semiurban",
          "Urban",
          "Urban",
          "Semiurban",
          "Semiurban",
          "Urban",
          "Semiurban",
          "Urban",
          "Urban",
          "Semiurban",
          "Rural",
          "Urban",
          "Semiurban",
          "Rural",
          "Urban",
          "Rural",
          "Semiurban",
          "Semiurban",
          "Rural",
          "Urban",
          "Rural",
          "Rural",
          "Semiurban",
          "Rural",
          "Urban",
          "Semiurban",
          "Rural",
          "Rural",
          "Semiurban",
          "Semiurban",
          "Semiurban",
          "Semiurban",
          "Rural",
          "Rural",
          "Rural",
          "Rural",
          "Semiurban",
          "Rural",
          "Rural",
          "Urban",
          "Semiurban",
          "Semiurban",
          "Semiurban",
          "Urban",
          "Semiurban",
          "Semiurban",
          "Urban",
          "Rural",
          "Urban",
          "Urban",
          "Rural",
          "Urban",
          "Semiurban",
          "Semiurban",
          "Semiurban",
          "Semiurban",
          "Semiurban",
          "Semiurban",
          "Semiurban",
          "Semiurban",
          "Semiurban",
          "Rural",
          "Semiurban",
          "Rural",
          "Rural",
          "Semiurban",
          "Semiurban",
          "Rural",
          "Urban",
          "Rural",
          "Semiurban",
          "Rural",
          "Urban",
          "Rural",
          "Semiurban",
          "Urban",
          "Urban",
          "Semiurban",
          "Urban",
          "Rural",
          "Semiurban",
          "Rural",
          "Urban",
          "Semiurban",
          "Rural",
          "Semiurban",
          "Rural",
          "Semiurban",
          "Urban",
          "Urban",
          "Urban",
          "Urban",
          "Rural",
          "Semiurban",
          "Semiurban",
          "Semiurban",
          "Semiurban",
          "Urban",
          "Semiurban",
          "Rural",
          "Semiurban",
          "Urban",
          "Urban",
          "Rural",
          "Rural",
          "Semiurban",
          "Rural",
          "Rural",
          "Urban",
          "Semiurban",
          "Urban",
          "Semiurban",
          "Urban",
          "Semiurban",
          "Rural",
          "Urban",
          "Rural",
          "Rural",
          "Rural",
          "Semiurban",
          "Semiurban",
          "Rural",
          "Rural",
          "Urban",
          "Semiurban",
          "Urban",
          "Semiurban",
          "Semiurban",
          "Semiurban",
          "Rural",
          "Rural",
          "Rural",
          "Rural",
          "Semiurban",
          "Urban",
          "Urban",
          "Semiurban",
          "Urban",
          "Urban",
          "Urban",
          "Semiurban",
          "Rural",
          "Rural",
          "Semiurban",
          "Urban",
          "Semiurban",
          "Rural",
          "Semiurban",
          "Urban",
          "Semiurban",
          "Rural",
          "Semiurban",
          "Rural",
          "Semiurban",
          "Urban",
          "Rural",
          "Semiurban",
          "Semiurban",
          "Urban",
          "Urban",
          "Rural",
          "Semiurban",
          "Semiurban",
          "Semiurban",
          "Rural",
          "Urban",
          "Urban",
          "Rural",
          "Semiurban",
          "Urban",
          "Semiurban",
          "Semiurban",
          "Urban",
          "Urban",
          "Urban",
          "Semiurban",
          "Urban",
          "Rural",
          "Rural",
          "Rural",
          "Urban",
          "Semiurban",
          "Urban",
          "Semiurban",
          "Urban",
          "Rural",
          "Semiurban",
          "Semiurban",
          "Semiurban",
          "Urban",
          "Rural",
          "Urban",
          "Rural",
          "Urban",
          "Rural",
          "Semiurban",
          "Rural",
          "Urban",
          "Semiurban",
          "Rural",
          "Semiurban",
          "Rural",
          "Urban",
          "Semiurban",
          "Semiurban",
          "Semiurban",
          "Urban",
          "Semiurban",
          "Semiurban",
          "Urban",
          "Rural",
          "Semiurban",
          "Rural",
          "Semiurban",
          "Semiurban",
          "Rural",
          "Rural",
          "Rural",
          "Urban",
          "Rural",
          "Semiurban",
          "Semiurban",
          "Urban",
          "Rural",
          "Semiurban",
          "Urban",
          "Rural",
          "Semiurban",
          "Rural",
          "Semiurban",
          "Semiurban",
          "Semiurban",
          "Semiurban",
          "Urban",
          "Rural",
          "Rural",
          "Semiurban",
          "Semiurban",
          "Rural",
          "Rural",
          "Semiurban",
          "Semiurban",
          "Semiurban",
          "Rural",
          "Semiurban",
          "Semiurban",
          "Urban",
          "Rural",
          "Semiurban",
          "Semiurban",
          "Rural",
          "Urban",
          "Semiurban",
          "Rural",
          "Semiurban",
          "Semiurban",
          "Semiurban",
          "Rural",
          "Urban",
          "Urban",
          "Urban",
          "Semiurban",
          "Urban",
          "Rural",
          "Semiurban",
          "Semiurban",
          "Semiurban",
          "Rural",
          "Rural",
          "Rural",
          "Semiurban",
          "Semiurban",
          "Semiurban",
          "Semiurban",
          "Rural",
          "Urban",
          "Urban",
          "Rural",
          "Urban",
          "Semiurban",
          "Rural",
          "Semiurban",
          "Semiurban",
          "Urban",
          "Semiurban",
          "Rural",
          "Rural",
          "Rural",
          "Rural",
          "Urban",
          "Semiurban",
          "Urban",
          "Semiurban",
          "Semiurban",
          "Semiurban",
          "Semiurban",
          "Semiurban",
          "Rural",
          "Semiurban",
          "Rural",
          "Urban",
          "Urban",
          "Urban",
          "Urban",
          "Urban",
          "Rural",
          "Urban",
          "Semiurban",
          "Semiurban",
          "Urban",
          "Semiurban",
          "Semiurban",
          "Semiurban",
          "Semiurban",
          "Rural",
          "Urban",
          "Rural",
          "Rural",
          "Urban",
          "Rural",
          "Urban",
          "Rural",
          "Semiurban",
          "Semiurban",
          "Rural",
          "Rural",
          "Rural",
          "Rural",
          "Urban",
          "Urban"
         ],
         "xaxis": "x",
         "yaxis": "y"
        },
        {
         "alignmentgroup": "True",
         "bingroup": "x",
         "hovertemplate": "Loan_Status=N<br>Property_Area=%{x}<br>count=%{y}<extra></extra>",
         "legendgroup": "N",
         "marker": {
          "color": "#e76f51",
          "pattern": {
           "shape": ""
          }
         },
         "name": "N",
         "offsetgroup": "N",
         "orientation": "v",
         "showlegend": true,
         "type": "histogram",
         "x": [
          "Rural",
          "Semiurban",
          "Semiurban",
          "Rural",
          "Urban",
          "Rural",
          "Urban",
          "Semiurban",
          "Rural",
          "Semiurban",
          "Urban",
          "Urban",
          "Urban",
          "Rural",
          "Rural",
          "Urban",
          "Urban",
          "Urban",
          "Semiurban",
          "Urban",
          "Urban",
          "Rural",
          "Rural",
          "Rural",
          "Semiurban",
          "Semiurban",
          "Urban",
          "Semiurban",
          "Semiurban",
          "Urban",
          "Urban",
          "Urban",
          "Semiurban",
          "Urban",
          "Semiurban",
          "Urban",
          "Rural",
          "Urban",
          "Rural",
          "Rural",
          "Urban",
          "Rural",
          "Semiurban",
          "Rural",
          "Semiurban",
          "Rural",
          "Rural",
          "Rural",
          "Rural",
          "Urban",
          "Rural",
          "Urban",
          "Semiurban",
          "Rural",
          "Semiurban",
          "Rural",
          "Semiurban",
          "Semiurban",
          "Urban",
          "Urban",
          "Rural",
          "Semiurban",
          "Rural",
          "Semiurban",
          "Urban",
          "Semiurban",
          "Urban",
          "Urban",
          "Semiurban",
          "Semiurban",
          "Semiurban",
          "Rural",
          "Semiurban",
          "Urban",
          "Rural",
          "Urban",
          "Urban",
          "Urban",
          "Urban",
          "Semiurban",
          "Urban",
          "Urban",
          "Rural",
          "Urban",
          "Rural",
          "Semiurban",
          "Semiurban",
          "Rural",
          "Urban",
          "Rural",
          "Semiurban",
          "Semiurban",
          "Urban",
          "Rural",
          "Urban",
          "Urban",
          "Urban",
          "Urban",
          "Rural",
          "Rural",
          "Rural",
          "Rural",
          "Urban",
          "Urban",
          "Rural",
          "Rural",
          "Rural",
          "Rural",
          "Rural",
          "Urban",
          "Urban",
          "Semiurban",
          "Rural",
          "Semiurban",
          "Rural",
          "Rural",
          "Urban",
          "Urban",
          "Urban",
          "Urban",
          "Urban",
          "Semiurban",
          "Urban",
          "Rural",
          "Rural",
          "Semiurban",
          "Rural",
          "Semiurban",
          "Rural",
          "Semiurban",
          "Urban",
          "Urban",
          "Urban",
          "Urban",
          "Rural",
          "Rural",
          "Urban",
          "Rural",
          "Rural",
          "Semiurban",
          "Rural",
          "Rural",
          "Urban",
          "Semiurban",
          "Semiurban",
          "Urban",
          "Urban",
          "Rural",
          "Semiurban",
          "Urban",
          "Rural",
          "Urban",
          "Urban",
          "Rural",
          "Rural",
          "Rural",
          "Urban",
          "Rural",
          "Semiurban",
          "Rural",
          "Semiurban",
          "Semiurban",
          "Rural",
          "Semiurban",
          "Rural",
          "Semiurban",
          "Rural",
          "Semiurban",
          "Semiurban",
          "Semiurban",
          "Rural",
          "Urban",
          "Rural",
          "Urban",
          "Rural",
          "Urban",
          "Urban",
          "Urban",
          "Semiurban",
          "Semiurban",
          "Semiurban",
          "Urban",
          "Rural",
          "Rural",
          "Rural",
          "Semiurban",
          "Semiurban",
          "Rural",
          "Semiurban",
          "Urban",
          "Urban",
          "Semiurban"
         ],
         "xaxis": "x",
         "yaxis": "y"
        }
       ],
       "layout": {
        "autosize": true,
        "barmode": "group",
        "legend": {
         "title": {
          "text": "Loan_Status"
         },
         "tracegroupgap": 0
        },
        "template": {
         "data": {
          "bar": [
           {
            "error_x": {
             "color": "#2a3f5f"
            },
            "error_y": {
             "color": "#2a3f5f"
            },
            "marker": {
             "line": {
              "color": "#E5ECF6",
              "width": 0.5
             },
             "pattern": {
              "fillmode": "overlay",
              "size": 10,
              "solidity": 0.2
             }
            },
            "type": "bar"
           }
          ],
          "barpolar": [
           {
            "marker": {
             "line": {
              "color": "#E5ECF6",
              "width": 0.5
             },
             "pattern": {
              "fillmode": "overlay",
              "size": 10,
              "solidity": 0.2
             }
            },
            "type": "barpolar"
           }
          ],
          "carpet": [
           {
            "aaxis": {
             "endlinecolor": "#2a3f5f",
             "gridcolor": "white",
             "linecolor": "white",
             "minorgridcolor": "white",
             "startlinecolor": "#2a3f5f"
            },
            "baxis": {
             "endlinecolor": "#2a3f5f",
             "gridcolor": "white",
             "linecolor": "white",
             "minorgridcolor": "white",
             "startlinecolor": "#2a3f5f"
            },
            "type": "carpet"
           }
          ],
          "choropleth": [
           {
            "colorbar": {
             "outlinewidth": 0,
             "ticks": ""
            },
            "type": "choropleth"
           }
          ],
          "contour": [
           {
            "colorbar": {
             "outlinewidth": 0,
             "ticks": ""
            },
            "colorscale": [
             [
              0,
              "#0d0887"
             ],
             [
              0.1111111111111111,
              "#46039f"
             ],
             [
              0.2222222222222222,
              "#7201a8"
             ],
             [
              0.3333333333333333,
              "#9c179e"
             ],
             [
              0.4444444444444444,
              "#bd3786"
             ],
             [
              0.5555555555555556,
              "#d8576b"
             ],
             [
              0.6666666666666666,
              "#ed7953"
             ],
             [
              0.7777777777777778,
              "#fb9f3a"
             ],
             [
              0.8888888888888888,
              "#fdca26"
             ],
             [
              1,
              "#f0f921"
             ]
            ],
            "type": "contour"
           }
          ],
          "contourcarpet": [
           {
            "colorbar": {
             "outlinewidth": 0,
             "ticks": ""
            },
            "type": "contourcarpet"
           }
          ],
          "heatmap": [
           {
            "colorbar": {
             "outlinewidth": 0,
             "ticks": ""
            },
            "colorscale": [
             [
              0,
              "#0d0887"
             ],
             [
              0.1111111111111111,
              "#46039f"
             ],
             [
              0.2222222222222222,
              "#7201a8"
             ],
             [
              0.3333333333333333,
              "#9c179e"
             ],
             [
              0.4444444444444444,
              "#bd3786"
             ],
             [
              0.5555555555555556,
              "#d8576b"
             ],
             [
              0.6666666666666666,
              "#ed7953"
             ],
             [
              0.7777777777777778,
              "#fb9f3a"
             ],
             [
              0.8888888888888888,
              "#fdca26"
             ],
             [
              1,
              "#f0f921"
             ]
            ],
            "type": "heatmap"
           }
          ],
          "histogram": [
           {
            "marker": {
             "pattern": {
              "fillmode": "overlay",
              "size": 10,
              "solidity": 0.2
             }
            },
            "type": "histogram"
           }
          ],
          "histogram2d": [
           {
            "colorbar": {
             "outlinewidth": 0,
             "ticks": ""
            },
            "colorscale": [
             [
              0,
              "#0d0887"
             ],
             [
              0.1111111111111111,
              "#46039f"
             ],
             [
              0.2222222222222222,
              "#7201a8"
             ],
             [
              0.3333333333333333,
              "#9c179e"
             ],
             [
              0.4444444444444444,
              "#bd3786"
             ],
             [
              0.5555555555555556,
              "#d8576b"
             ],
             [
              0.6666666666666666,
              "#ed7953"
             ],
             [
              0.7777777777777778,
              "#fb9f3a"
             ],
             [
              0.8888888888888888,
              "#fdca26"
             ],
             [
              1,
              "#f0f921"
             ]
            ],
            "type": "histogram2d"
           }
          ],
          "histogram2dcontour": [
           {
            "colorbar": {
             "outlinewidth": 0,
             "ticks": ""
            },
            "colorscale": [
             [
              0,
              "#0d0887"
             ],
             [
              0.1111111111111111,
              "#46039f"
             ],
             [
              0.2222222222222222,
              "#7201a8"
             ],
             [
              0.3333333333333333,
              "#9c179e"
             ],
             [
              0.4444444444444444,
              "#bd3786"
             ],
             [
              0.5555555555555556,
              "#d8576b"
             ],
             [
              0.6666666666666666,
              "#ed7953"
             ],
             [
              0.7777777777777778,
              "#fb9f3a"
             ],
             [
              0.8888888888888888,
              "#fdca26"
             ],
             [
              1,
              "#f0f921"
             ]
            ],
            "type": "histogram2dcontour"
           }
          ],
          "mesh3d": [
           {
            "colorbar": {
             "outlinewidth": 0,
             "ticks": ""
            },
            "type": "mesh3d"
           }
          ],
          "parcoords": [
           {
            "line": {
             "colorbar": {
              "outlinewidth": 0,
              "ticks": ""
             }
            },
            "type": "parcoords"
           }
          ],
          "pie": [
           {
            "automargin": true,
            "type": "pie"
           }
          ],
          "scatter": [
           {
            "fillpattern": {
             "fillmode": "overlay",
             "size": 10,
             "solidity": 0.2
            },
            "type": "scatter"
           }
          ],
          "scatter3d": [
           {
            "line": {
             "colorbar": {
              "outlinewidth": 0,
              "ticks": ""
             }
            },
            "marker": {
             "colorbar": {
              "outlinewidth": 0,
              "ticks": ""
             }
            },
            "type": "scatter3d"
           }
          ],
          "scattercarpet": [
           {
            "marker": {
             "colorbar": {
              "outlinewidth": 0,
              "ticks": ""
             }
            },
            "type": "scattercarpet"
           }
          ],
          "scattergeo": [
           {
            "marker": {
             "colorbar": {
              "outlinewidth": 0,
              "ticks": ""
             }
            },
            "type": "scattergeo"
           }
          ],
          "scattergl": [
           {
            "marker": {
             "colorbar": {
              "outlinewidth": 0,
              "ticks": ""
             }
            },
            "type": "scattergl"
           }
          ],
          "scattermap": [
           {
            "marker": {
             "colorbar": {
              "outlinewidth": 0,
              "ticks": ""
             }
            },
            "type": "scattermap"
           }
          ],
          "scattermapbox": [
           {
            "marker": {
             "colorbar": {
              "outlinewidth": 0,
              "ticks": ""
             }
            },
            "type": "scattermapbox"
           }
          ],
          "scatterpolar": [
           {
            "marker": {
             "colorbar": {
              "outlinewidth": 0,
              "ticks": ""
             }
            },
            "type": "scatterpolar"
           }
          ],
          "scatterpolargl": [
           {
            "marker": {
             "colorbar": {
              "outlinewidth": 0,
              "ticks": ""
             }
            },
            "type": "scatterpolargl"
           }
          ],
          "scatterternary": [
           {
            "marker": {
             "colorbar": {
              "outlinewidth": 0,
              "ticks": ""
             }
            },
            "type": "scatterternary"
           }
          ],
          "surface": [
           {
            "colorbar": {
             "outlinewidth": 0,
             "ticks": ""
            },
            "colorscale": [
             [
              0,
              "#0d0887"
             ],
             [
              0.1111111111111111,
              "#46039f"
             ],
             [
              0.2222222222222222,
              "#7201a8"
             ],
             [
              0.3333333333333333,
              "#9c179e"
             ],
             [
              0.4444444444444444,
              "#bd3786"
             ],
             [
              0.5555555555555556,
              "#d8576b"
             ],
             [
              0.6666666666666666,
              "#ed7953"
             ],
             [
              0.7777777777777778,
              "#fb9f3a"
             ],
             [
              0.8888888888888888,
              "#fdca26"
             ],
             [
              1,
              "#f0f921"
             ]
            ],
            "type": "surface"
           }
          ],
          "table": [
           {
            "cells": {
             "fill": {
              "color": "#EBF0F8"
             },
             "line": {
              "color": "white"
             }
            },
            "header": {
             "fill": {
              "color": "#C8D4E3"
             },
             "line": {
              "color": "white"
             }
            },
            "type": "table"
           }
          ]
         },
         "layout": {
          "annotationdefaults": {
           "arrowcolor": "#2a3f5f",
           "arrowhead": 0,
           "arrowwidth": 1
          },
          "autotypenumbers": "strict",
          "coloraxis": {
           "colorbar": {
            "outlinewidth": 0,
            "ticks": ""
           }
          },
          "colorscale": {
           "diverging": [
            [
             0,
             "#8e0152"
            ],
            [
             0.1,
             "#c51b7d"
            ],
            [
             0.2,
             "#de77ae"
            ],
            [
             0.3,
             "#f1b6da"
            ],
            [
             0.4,
             "#fde0ef"
            ],
            [
             0.5,
             "#f7f7f7"
            ],
            [
             0.6,
             "#e6f5d0"
            ],
            [
             0.7,
             "#b8e186"
            ],
            [
             0.8,
             "#7fbc41"
            ],
            [
             0.9,
             "#4d9221"
            ],
            [
             1,
             "#276419"
            ]
           ],
           "sequential": [
            [
             0,
             "#0d0887"
            ],
            [
             0.1111111111111111,
             "#46039f"
            ],
            [
             0.2222222222222222,
             "#7201a8"
            ],
            [
             0.3333333333333333,
             "#9c179e"
            ],
            [
             0.4444444444444444,
             "#bd3786"
            ],
            [
             0.5555555555555556,
             "#d8576b"
            ],
            [
             0.6666666666666666,
             "#ed7953"
            ],
            [
             0.7777777777777778,
             "#fb9f3a"
            ],
            [
             0.8888888888888888,
             "#fdca26"
            ],
            [
             1,
             "#f0f921"
            ]
           ],
           "sequentialminus": [
            [
             0,
             "#0d0887"
            ],
            [
             0.1111111111111111,
             "#46039f"
            ],
            [
             0.2222222222222222,
             "#7201a8"
            ],
            [
             0.3333333333333333,
             "#9c179e"
            ],
            [
             0.4444444444444444,
             "#bd3786"
            ],
            [
             0.5555555555555556,
             "#d8576b"
            ],
            [
             0.6666666666666666,
             "#ed7953"
            ],
            [
             0.7777777777777778,
             "#fb9f3a"
            ],
            [
             0.8888888888888888,
             "#fdca26"
            ],
            [
             1,
             "#f0f921"
            ]
           ]
          },
          "colorway": [
           "#636efa",
           "#EF553B",
           "#00cc96",
           "#ab63fa",
           "#FFA15A",
           "#19d3f3",
           "#FF6692",
           "#B6E880",
           "#FF97FF",
           "#FECB52"
          ],
          "font": {
           "color": "#2a3f5f"
          },
          "geo": {
           "bgcolor": "white",
           "lakecolor": "white",
           "landcolor": "#E5ECF6",
           "showlakes": true,
           "showland": true,
           "subunitcolor": "white"
          },
          "hoverlabel": {
           "align": "left"
          },
          "hovermode": "closest",
          "mapbox": {
           "style": "light"
          },
          "paper_bgcolor": "white",
          "plot_bgcolor": "#E5ECF6",
          "polar": {
           "angularaxis": {
            "gridcolor": "white",
            "linecolor": "white",
            "ticks": ""
           },
           "bgcolor": "#E5ECF6",
           "radialaxis": {
            "gridcolor": "white",
            "linecolor": "white",
            "ticks": ""
           }
          },
          "scene": {
           "xaxis": {
            "backgroundcolor": "#E5ECF6",
            "gridcolor": "white",
            "gridwidth": 2,
            "linecolor": "white",
            "showbackground": true,
            "ticks": "",
            "zerolinecolor": "white"
           },
           "yaxis": {
            "backgroundcolor": "#E5ECF6",
            "gridcolor": "white",
            "gridwidth": 2,
            "linecolor": "white",
            "showbackground": true,
            "ticks": "",
            "zerolinecolor": "white"
           },
           "zaxis": {
            "backgroundcolor": "#E5ECF6",
            "gridcolor": "white",
            "gridwidth": 2,
            "linecolor": "white",
            "showbackground": true,
            "ticks": "",
            "zerolinecolor": "white"
           }
          },
          "shapedefaults": {
           "line": {
            "color": "#2a3f5f"
           }
          },
          "ternary": {
           "aaxis": {
            "gridcolor": "white",
            "linecolor": "white",
            "ticks": ""
           },
           "baxis": {
            "gridcolor": "white",
            "linecolor": "white",
            "ticks": ""
           },
           "bgcolor": "#E5ECF6",
           "caxis": {
            "gridcolor": "white",
            "linecolor": "white",
            "ticks": ""
           }
          },
          "title": {
           "x": 0.05
          },
          "xaxis": {
           "automargin": true,
           "gridcolor": "white",
           "linecolor": "white",
           "ticks": "",
           "title": {
            "standoff": 15
           },
           "zerolinecolor": "white",
           "zerolinewidth": 2
          },
          "yaxis": {
           "automargin": true,
           "gridcolor": "white",
           "linecolor": "white",
           "ticks": "",
           "title": {
            "standoff": 15
           },
           "zerolinecolor": "white",
           "zerolinewidth": 2
          }
         }
        },
        "title": {
         "text": "Loan Approval by Property Area"
        },
        "xaxis": {
         "anchor": "y",
         "autorange": true,
         "domain": [
          0,
          1
         ],
         "range": [
          -0.5,
          2.5
         ],
         "title": {
          "text": "Property_Area"
         },
         "type": "category"
        },
        "yaxis": {
         "anchor": "x",
         "autorange": true,
         "domain": [
          0,
          1
         ],
         "range": [
          0,
          188.42105263157896
         ],
         "title": {
          "text": "count"
         }
        }
       }
      },
      "image/png": "[encoded data removed]"
     },
     "metadata": {},
     "output_type": "display_data"
    }
   ],
   "source": [
    "fig2 = px.histogram(df, x='Property_Area', color='Loan_Status', barmode='group',\n",
    "                    title='Loan Approval by Property Area',\n",
    "                    color_discrete_map={'Y': '#2a9d8f', 'N': '#e76f51'})\n",
    "fig2.show()"
   ]
  },
  {
   "cell_type": "markdown",
   "id": "39cb28dd-063e-431e-adad-51ab0a44ffc7",
   "metadata": {},
   "source": [
    "# Applicant Income vs Loan Amount (by Loan Status)"
   ]
  },
  {
   "cell_type": "code",
   "execution_count": 43,
   "id": "e069df2f-49a9-4062-98e8-175c75f6cf3e",
   "metadata": {},
   "outputs": [
    {
     "data": {
      "application/vnd.plotly.v1+json": {
       "config": {
        "plotlyServerURL": "https://plot.ly"
       },
       "data": [
        {
         "customdata": [
          [
           "LP001002"
          ],
          [
           "LP001005"
          ],
          [
           "LP001006"
          ],
          [
           "LP001008"
          ],
          [
           "LP001011"
          ],
          [
           "LP001013"
          ],
          [
           "LP001018"
          ],
          [
           "LP001024"
          ],
          [
           "LP001027"
          ],
          [
           "LP001028"
          ],
          [
           "LP001030"
          ],
          [
           "LP001032"
          ],
          [
           "LP001034"
          ],
          [
           "LP001041"
          ],
          [
           "LP001046"
          ],
          [
           "LP001066"
          ],
          [
           "LP001068"
          ],
          [
           "LP001073"
          ],
          [
           "LP001087"
          ],
          [
           "LP001098"
          ],
          [
           "LP001106"
          ],
          [
           "LP001112"
          ],
          [
           "LP001114"
          ],
          [
           "LP001116"
          ],
          [
           "LP001120"
          ],
          [
           "LP001123"
          ],
          [
           "LP001131"
          ],
          [
           "LP001136"
          ],
          [
           "LP001137"
          ],
          [
           "LP001138"
          ],
          [
           "LP001144"
          ],
          [
           "LP001151"
          ],
          [
           "LP001155"
          ],
          [
           "LP001157"
          ],
          [
           "LP001194"
          ],
          [
           "LP001195"
          ],
          [
           "LP001198"
          ],
          [
           "LP001199"
          ],
          [
           "LP001205"
          ],
          [
           "LP001206"
          ],
          [
           "LP001233"
          ],
          [
           "LP001238"
          ],
          [
           "LP001243"
          ],
          [
           "LP001245"
          ],
          [
           "LP001248"
          ],
          [
           "LP001253"
          ],
          [
           "LP001264"
          ],
          [
           "LP001265"
          ],
          [
           "LP001266"
          ],
          [
           "LP001275"
          ],
          [
           "LP001279"
          ],
          [
           "LP001280"
          ],
          [
           "LP001282"
          ],
          [
           "LP001289"
          ],
          [
           "LP001310"
          ],
          [
           "LP001316"
          ],
          [
           "LP001318"
          ],
          [
           "LP001319"
          ],
          [
           "LP001322"
          ],
          [
           "LP001325"
          ],
          [
           "LP001327"
          ],
          [
           "LP001333"
          ],
          [
           "LP001334"
          ],
          [
           "LP001343"
          ],
          [
           "LP001345"
          ],
          [
           "LP001349"
          ],
          [
           "LP001350"
          ],
          [
           "LP001356"
          ],
          [
           "LP001357"
          ],
          [
           "LP001367"
          ],
          [
           "LP001369"
          ],
          [
           "LP001384"
          ],
          [
           "LP001385"
          ],
          [
           "LP001387"
          ],
          [
           "LP001392"
          ],
          [
           "LP001398"
          ],
          [
           "LP001401"
          ],
          [
           "LP001404"
          ],
          [
           "LP001405"
          ],
          [
           "LP001422"
          ],
          [
           "LP001426"
          ],
          [
           "LP001430"
          ],
          [
           "LP001431"
          ],
          [
           "LP001432"
          ],
          [
           "LP001439"
          ],
          [
           "LP001443"
          ],
          [
           "LP001448"
          ],
          [
           "LP001449"
          ],
          [
           "LP001469"
          ],
          [
           "LP001473"
          ],
          [
           "LP001478"
          ],
          [
           "LP001482"
          ],
          [
           "LP001487"
          ],
          [
           "LP001491"
          ],
          [
           "LP001498"
          ],
          [
           "LP001504"
          ],
          [
           "LP001507"
          ],
          [
           "LP001508"
          ],
          [
           "LP001514"
          ],
          [
           "LP001516"
          ],
          [
           "LP001518"
          ],
          [
           "LP001520"
          ],
          [
           "LP001529"
          ],
          [
           "LP001535"
          ],
          [
           "LP001536"
          ],
          [
           "LP001541"
          ],
          [
           "LP001543"
          ],
          [
           "LP001546"
          ],
          [
           "LP001552"
          ],
          [
           "LP001560"
          ],
          [
           "LP001570"
          ],
          [
           "LP001572"
          ],
          [
           "LP001574"
          ],
          [
           "LP001578"
          ],
          [
           "LP001580"
          ],
          [
           "LP001581"
          ],
          [
           "LP001585"
          ],
          [
           "LP001594"
          ],
          [
           "LP001606"
          ],
          [
           "LP001608"
          ],
          [
           "LP001616"
          ],
          [
           "LP001636"
          ],
          [
           "LP001639"
          ],
          [
           "LP001640"
          ],
          [
           "LP001643"
          ],
          [
           "LP001644"
          ],
          [
           "LP001647"
          ],
          [
           "LP001653"
          ],
          [
           "LP001658"
          ],
          [
           "LP001664"
          ],
          [
           "LP001666"
          ],
          [
           "LP001669"
          ],
          [
           "LP001671"
          ],
          [
           "LP001674"
          ],
          [
           "LP001677"
          ],
          [
           "LP001688"
          ],
          [
           "LP001691"
          ],
          [
           "LP001692"
          ],
          [
           "LP001693"
          ],
          [
           "LP001698"
          ],
          [
           "LP001699"
          ],
          [
           "LP001713"
          ],
          [
           "LP001715"
          ],
          [
           "LP001716"
          ],
          [
           "LP001720"
          ],
          [
           "LP001726"
          ],
          [
           "LP001734"
          ],
          [
           "LP001743"
          ],
          [
           "LP001744"
          ],
          [
           "LP001749"
          ],
          [
           "LP001750"
          ],
          [
           "LP001758"
          ],
          [
           "LP001760"
          ],
          [
           "LP001761"
          ],
          [
           "LP001765"
          ],
          [
           "LP001768"
          ],
          [
           "LP001770"
          ],
          [
           "LP001776"
          ],
          [
           "LP001778"
          ],
          [
           "LP001784"
          ],
          [
           "LP001788"
          ],
          [
           "LP001790"
          ],
          [
           "LP001792"
          ],
          [
           "LP001798"
          ],
          [
           "LP001806"
          ],
          [
           "LP001807"
          ],
          [
           "LP001811"
          ],
          [
           "LP001814"
          ],
          [
           "LP001819"
          ],
          [
           "LP001824"
          ],
          [
           "LP001825"
          ],
          [
           "LP001841"
          ],
          [
           "LP001843"
          ],
          [
           "LP001846"
          ],
          [
           "LP001865"
          ],
          [
           "LP001868"
          ],
          [
           "LP001871"
          ],
          [
           "LP001872"
          ],
          [
           "LP001875"
          ],
          [
           "LP001877"
          ],
          [
           "LP001882"
          ],
          [
           "LP001884"
          ],
          [
           "LP001888"
          ],
          [
           "LP001891"
          ],
          [
           "LP001892"
          ],
          [
           "LP001894"
          ],
          [
           "LP001896"
          ],
          [
           "LP001900"
          ],
          [
           "LP001903"
          ],
          [
           "LP001904"
          ],
          [
           "LP001907"
          ],
          [
           "LP001908"
          ],
          [
           "LP001914"
          ],
          [
           "LP001915"
          ],
          [
           "LP001917"
          ],
          [
           "LP001924"
          ],
          [
           "LP001926"
          ],
          [
           "LP001931"
          ],
          [
           "LP001935"
          ],
          [
           "LP001936"
          ],
          [
           "LP001940"
          ],
          [
           "LP001947"
          ],
          [
           "LP001949"
          ],
          [
           "LP001953"
          ],
          [
           "LP001954"
          ],
          [
           "LP001972"
          ],
          [
           "LP001974"
          ],
          [
           "LP001977"
          ],
          [
           "LP001978"
          ],
          [
           "LP001993"
          ],
          [
           "LP001998"
          ],
          [
           "LP002002"
          ],
          [
           "LP002004"
          ],
          [
           "LP002006"
          ],
          [
           "LP002008"
          ],
          [
           "LP002031"
          ],
          [
           "LP002035"
          ],
          [
           "LP002036"
          ],
          [
           "LP002043"
          ],
          [
           "LP002051"
          ],
          [
           "LP002053"
          ],
          [
           "LP002054"
          ],
          [
           "LP002055"
          ],
          [
           "LP002065"
          ],
          [
           "LP002068"
          ],
          [
           "LP002082"
          ],
          [
           "LP002087"
          ],
          [
           "LP002097"
          ],
          [
           "LP002098"
          ],
          [
           "LP002100"
          ],
          [
           "LP002101"
          ],
          [
           "LP002103"
          ],
          [
           "LP002106"
          ],
          [
           "LP002110"
          ],
          [
           "LP002112"
          ],
          [
           "LP002114"
          ],
          [
           "LP002119"
          ],
          [
           "LP002126"
          ],
          [
           "LP002128"
          ],
          [
           "LP002129"
          ],
          [
           "LP002131"
          ],
          [
           "LP002137"
          ],
          [
           "LP002138"
          ],
          [
           "LP002139"
          ],
          [
           "LP002141"
          ],
          [
           "LP002143"
          ],
          [
           "LP002144"
          ],
          [
           "LP002149"
          ],
          [
           "LP002160"
          ],
          [
           "LP002170"
          ],
          [
           "LP002175"
          ],
          [
           "LP002178"
          ],
          [
           "LP002180"
          ],
          [
           "LP002190"
          ],
          [
           "LP002194"
          ],
          [
           "LP002197"
          ],
          [
           "LP002201"
          ],
          [
           "LP002209"
          ],
          [
           "LP002211"
          ],
          [
           "LP002219"
          ],
          [
           "LP002223"
          ],
          [
           "LP002225"
          ],
          [
           "LP002226"
          ],
          [
           "LP002229"
          ],
          [
           "LP002231"
          ],
          [
           "LP002234"
          ],
          [
           "LP002237"
          ],
          [
           "LP002239"
          ],
          [
           "LP002244"
          ],
          [
           "LP002250"
          ],
          [
           "LP002255"
          ],
          [
           "LP002262"
          ],
          [
           "LP002263"
          ],
          [
           "LP002265"
          ],
          [
           "LP002266"
          ],
          [
           "LP002272"
          ],
          [
           "LP002281"
          ],
          [
           "LP002284"
          ],
          [
           "LP002297"
          ],
          [
           "LP002300"
          ],
          [
           "LP002305"
          ],
          [
           "LP002308"
          ],
          [
           "LP002314"
          ],
          [
           "LP002319"
          ],
          [
           "LP002332"
          ],
          [
           "LP002337"
          ],
          [
           "LP002345"
          ],
          [
           "LP002347"
          ],
          [
           "LP002348"
          ],
          [
           "LP002361"
          ],
          [
           "LP002364"
          ],
          [
           "LP002366"
          ],
          [
           "LP002368"
          ],
          [
           "LP002369"
          ],
          [
           "LP002370"
          ],
          [
           "LP002377"
          ],
          [
           "LP002386"
          ],
          [
           "LP002387"
          ],
          [
           "LP002390"
          ],
          [
           "LP002393"
          ],
          [
           "LP002398"
          ],
          [
           "LP002401"
          ],
          [
           "LP002407"
          ],
          [
           "LP002408"
          ],
          [
           "LP002409"
          ],
          [
           "LP002418"
          ],
          [
           "LP002422"
          ],
          [
           "LP002424"
          ],
          [
           "LP002429"
          ],
          [
           "LP002434"
          ],
          [
           "LP002447"
          ],
          [
           "LP002449"
          ],
          [
           "LP002453"
          ],
          [
           "LP002455"
          ],
          [
           "LP002459"
          ],
          [
           "LP002472"
          ],
          [
           "LP002478"
          ],
          [
           "LP002484"
          ],
          [
           "LP002487"
          ],
          [
           "LP002489"
          ],
          [
           "LP002494"
          ],
          [
           "LP002501"
          ],
          [
           "LP002502"
          ],
          [
           "LP002515"
          ],
          [
           "LP002519"
          ],
          [
           "LP002522"
          ],
          [
           "LP002524"
          ],
          [
           "LP002527"
          ],
          [
           "LP002529"
          ],
          [
           "LP002531"
          ],
          [
           "LP002534"
          ],
          [
           "LP002536"
          ],
          [
           "LP002537"
          ],
          [
           "LP002541"
          ],
          [
           "LP002543"
          ],
          [
           "LP002544"
          ],
          [
           "LP002555"
          ],
          [
           "LP002560"
          ],
          [
           "LP002562"
          ],
          [
           "LP002571"
          ],
          [
           "LP002582"
          ],
          [
           "LP002586"
          ],
          [
           "LP002587"
          ],
          [
           "LP002588"
          ],
          [
           "LP002600"
          ],
          [
           "LP002603"
          ],
          [
           "LP002606"
          ],
          [
           "LP002615"
          ],
          [
           "LP002619"
          ],
          [
           "LP002622"
          ],
          [
           "LP002624"
          ],
          [
           "LP002626"
          ],
          [
           "LP002634"
          ],
          [
           "LP002640"
          ],
          [
           "LP002643"
          ],
          [
           "LP002659"
          ],
          [
           "LP002670"
          ],
          [
           "LP002689"
          ],
          [
           "LP002690"
          ],
          [
           "LP002692"
          ],
          [
           "LP002693"
          ],
          [
           "LP002699"
          ],
          [
           "LP002705"
          ],
          [
           "LP002706"
          ],
          [
           "LP002714"
          ],
          [
           "LP002716"
          ],
          [
           "LP002717"
          ],
          [
           "LP002720"
          ],
          [
           "LP002731"
          ],
          [
           "LP002732"
          ],
          [
           "LP002734"
          ],
          [
           "LP002738"
          ],
          [
           "LP002740"
          ],
          [
           "LP002741"
          ],
          [
           "LP002753"
          ],
          [
           "LP002755"
          ],
          [
           "LP002757"
          ],
          [
           "LP002767"
          ],
          [
           "LP002772"
          ],
          [
           "LP002777"
          ],
          [
           "LP002784"
          ],
          [
           "LP002785"
          ],
          [
           "LP002792"
          ],
          [
           "LP002794"
          ],
          [
           "LP002795"
          ],
          [
           "LP002798"
          ],
          [
           "LP002804"
          ],
          [
           "LP002807"
          ],
          [
           "LP002813"
          ],
          [
           "LP002820"
          ],
          [
           "LP002821"
          ],
          [
           "LP002833"
          ],
          [
           "LP002836"
          ],
          [
           "LP002842"
          ],
          [
           "LP002855"
          ],
          [
           "LP002868"
          ],
          [
           "LP002874"
          ],
          [
           "LP002877"
          ],
          [
           "LP002888"
          ],
          [
           "LP002892"
          ],
          [
           "LP002894"
          ],
          [
           "LP002916"
          ],
          [
           "LP002917"
          ],
          [
           "LP002925"
          ],
          [
           "LP002928"
          ],
          [
           "LP002933"
          ],
          [
           "LP002936"
          ],
          [
           "LP002938"
          ],
          [
           "LP002940"
          ],
          [
           "LP002945"
          ],
          [
           "LP002948"
          ],
          [
           "LP002950"
          ],
          [
           "LP002953"
          ],
          [
           "LP002958"
          ],
          [
           "LP002959"
          ],
          [
           "LP002961"
          ],
          [
           "LP002964"
          ],
          [
           "LP002974"
          ],
          [
           "LP002978"
          ],
          [
           "LP002979"
          ],
          [
           "LP002983"
          ],
          [
           "LP002984"
          ]
         ],
         "hovertemplate": "Loan_Status=Y<br>ApplicantIncome=%{x}<br>LoanAmount=%{y}<br>Loan_ID=%{customdata[0]}<extra></extra>",
         "legendgroup": "Y",
         "marker": {
          "color": "#2a9d8f",
          "symbol": "circle"
         },
         "mode": "markers",
         "name": "Y",
         "orientation": "v",
         "showlegend": true,
         "type": "scatter",
         "x": {
          "_inputArray": {
           "0": 5849,
           "1": 3000,
           "10": 1299,
           "100": 1538,
           "101": 4860,
           "102": 2577,
           "103": 3254,
           "104": 39999,
           "105": 6000,
           "106": 9538,
           "107": 2980,
           "108": 4583,
           "109": 1863,
           "11": 4950,
           "110": 4167,
           "111": 9323,
           "112": 3707,
           "113": 2439,
           "114": 8000,
           "115": 1820,
           "116": 51763,
           "117": 5708,
           "118": 3497,
           "119": 2045,
           "12": 3596,
           "120": 3750,
           "121": 4600,
           "122": 3625,
           "123": 39147,
           "124": 2383,
           "125": 674,
           "126": 9328,
           "127": 4885,
           "128": 3858,
           "129": 4191,
           "13": 2600,
           "130": 8333,
           "131": 1907,
           "132": 3416,
           "133": 2600,
           "134": 4923,
           "135": 3500,
           "136": 3917,
           "137": 4408,
           "138": 3244,
           "139": 3975,
           "14": 5955,
           "140": 2479,
           "141": 7787,
           "142": 5703,
           "143": 3173,
           "144": 3850,
           "145": 3727,
           "146": 4283,
           "147": 4009,
           "148": 2971,
           "149": 7578,
           "15": 9560,
           "150": 6250,
           "151": 6250,
           "152": 4758,
           "153": 6400,
           "154": 2491,
           "155": 3716,
           "156": 3189,
           "157": 8333,
           "158": 3155,
           "159": 5500,
           "16": 2799,
           "160": 3463,
           "161": 3812,
           "162": 3315,
           "163": 5819,
           "164": 2965,
           "165": 6250,
           "166": 3406,
           "167": 9703,
           "168": 6608,
           "169": 2882,
           "17": 4226,
           "170": 1809,
           "171": 2583,
           "172": 2661,
           "173": 3083,
           "174": 6083,
           "175": 2060,
           "176": 7200,
           "177": 5166,
           "178": 4095,
           "179": 4708,
           "18": 3750,
           "180": 4333,
           "181": 2876,
           "182": 3237,
           "183": 11146,
           "184": 2833,
           "185": 2620,
           "186": 3900,
           "187": 2750,
           "188": 3993,
           "189": 3103,
           "19": 3500,
           "190": 14583,
           "191": 4100,
           "192": 3927,
           "193": 2301,
           "194": 1811,
           "195": 3158,
           "196": 3704,
           "197": 4124,
           "198": 9508,
           "199": 3075,
           "2": 2583,
           "20": 2275,
           "200": 3153,
           "201": 2383,
           "202": 4416,
           "203": 6875,
           "204": 4666,
           "205": 2875,
           "206": 5000,
           "207": 1625,
           "208": 4000,
           "209": 3762,
           "21": 3667,
           "210": 7667,
           "211": 2917,
           "212": 2927,
           "213": 2507,
           "214": 5746,
           "215": 3399,
           "216": 3717,
           "217": 2058,
           "218": 3541,
           "219": 2400,
           "22": 4166,
           "220": 4342,
           "221": 3601,
           "222": 3166,
           "223": 15000,
           "224": 4917,
           "225": 5818,
           "226": 2500,
           "227": 4384,
           "228": 2935,
           "229": 2833,
           "23": 3748,
           "230": 63337,
           "231": 9833,
           "232": 5503,
           "233": 5250,
           "234": 2500,
           "235": 4160,
           "236": 4554,
           "237": 3173,
           "238": 2583,
           "239": 2499,
           "24": 1800,
           "240": 3083,
           "241": 6333,
           "242": 2625,
           "243": 9083,
           "244": 2666,
           "245": 2423,
           "246": 3813,
           "247": 8333,
           "248": 5167,
           "249": 5000,
           "25": 2400,
           "250": 4750,
           "251": 3013,
           "252": 6822,
           "253": 6325,
           "254": 15759,
           "255": 5185,
           "256": 9323,
           "257": 2764,
           "258": 4817,
           "259": 8750,
           "26": 3941,
           "260": 4310,
           "261": 5391,
           "262": 3333,
           "263": 5941,
           "264": 6000,
           "265": 7167,
           "266": 3667,
           "267": 2346,
           "268": 2333,
           "269": 5488,
           "27": 4695,
           "270": 9167,
           "271": 9504,
           "272": 2583,
           "273": 1993,
           "274": 3100,
           "275": 3276,
           "276": 3033,
           "277": 3902,
           "278": 2500,
           "279": 1963,
           "28": 3410,
           "280": 4547,
           "281": 2167,
           "282": 2213,
           "283": 6256,
           "284": 2253,
           "285": 2995,
           "286": 1025,
           "287": 3246,
           "288": 5829,
           "289": 1820,
           "29": 5649,
           "290": 14880,
           "291": 2666,
           "292": 5935,
           "293": 2920,
           "294": 2717,
           "295": 8624,
           "296": 12876,
           "297": 2425,
           "298": 3750,
           "299": 10047,
           "3": 6000,
           "30": 5821,
           "300": 1926,
           "301": 2213,
           "302": 7142,
           "303": 3660,
           "304": 7901,
           "305": 4707,
           "306": 37719,
           "307": 7333,
           "308": 3466,
           "309": 4652,
           "31": 4000,
           "310": 1958,
           "311": 2483,
           "312": 7085,
           "313": 3859,
           "314": 4301,
           "315": 4354,
           "316": 2083,
           "317": 7740,
           "318": 3015,
           "319": 5191,
           "32": 1928,
           "320": 6000,
           "321": 16692,
           "322": 210,
           "323": 3450,
           "324": 4691,
           "325": 2500,
           "326": 5532,
           "327": 16525,
           "328": 6700,
           "329": 16667,
           "33": 3086,
           "330": 4350,
           "331": 3095,
           "332": 2083,
           "333": 10833,
           "334": 8333,
           "335": 1958,
           "336": 4583,
           "337": 2699,
           "338": 5333,
           "339": 3691,
           "34": 2708,
           "340": 17263,
           "341": 3326,
           "342": 2600,
           "343": 4625,
           "344": 2895,
           "345": 645,
           "346": 3159,
           "347": 4865,
           "348": 3814,
           "349": 3510,
           "35": 2132,
           "350": 20833,
           "351": 2479,
           "352": 13262,
           "353": 6065,
           "354": 3283,
           "355": 3466,
           "356": 2031,
           "357": 2192,
           "358": 2500,
           "359": 5677,
           "36": 8080,
           "360": 7948,
           "361": 17500,
           "362": 3775,
           "363": 5285,
           "364": 2679,
           "365": 6783,
           "366": 1025,
           "367": 4281,
           "368": 18165,
           "369": 2550,
           "37": 3357,
           "370": 6133,
           "371": 3617,
           "372": 6417,
           "373": 4608,
           "374": 3652,
           "375": 2239,
           "376": 3017,
           "377": 2768,
           "378": 2526,
           "379": 2785,
           "38": 2500,
           "380": 2492,
           "381": 3333,
           "382": 5468,
           "383": 2667,
           "384": 10139,
           "385": 3887,
           "386": 4180,
           "387": 3675,
           "388": 19484,
           "389": 5923,
           "39": 3029,
           "390": 5800,
           "391": 4467,
           "392": 3333,
           "393": 3417,
           "394": 16666,
           "395": 3159,
           "396": 3229,
           "397": 1782,
           "398": 3182,
           "399": 6540,
           "4": 5417,
           "40": 10750,
           "400": 3166,
           "401": 2297,
           "402": 2165,
           "403": 4750,
           "404": 3000,
           "405": 9357,
           "406": 3859,
           "407": 16120,
           "408": 3833,
           "409": 9963,
           "41": 7100,
           "410": 5780,
           "411": 2894,
           "412": 5703,
           "413": 3676,
           "414": 12000,
           "415": 3400,
           "416": 3987,
           "417": 3232,
           "418": 2900,
           "419": 4106,
           "42": 3208,
           "420": 8072,
           "421": 7583,
           "43": 1875,
           "44": 3500,
           "45": 5266,
           "46": 3333,
           "47": 3846,
           "48": 2395,
           "49": 3988,
           "5": 2333,
           "50": 2366,
           "51": 3333,
           "52": 2500,
           "53": 8566,
           "54": 5695,
           "55": 2958,
           "56": 6250,
           "57": 3273,
           "58": 4133,
           "59": 3620,
           "6": 4006,
           "60": 2484,
           "61": 1977,
           "62": 4188,
           "63": 1759,
           "64": 4288,
           "65": 4843,
           "66": 13650,
           "67": 4652,
           "68": 3816,
           "69": 3052,
           "7": 3200,
           "70": 11417,
           "71": 2071,
           "72": 5316,
           "73": 2929,
           "74": 7451,
           "75": 5050,
           "76": 14583,
           "77": 3167,
           "78": 2214,
           "79": 10408,
           "8": 2500,
           "80": 5667,
           "81": 4166,
           "82": 2137,
           "83": 2957,
           "84": 4300,
           "85": 3692,
           "86": 23803,
           "87": 3865,
           "88": 20166,
           "89": 2014,
           "9": 3073,
           "90": 2718,
           "91": 3459,
           "92": 4895,
           "93": 3316,
           "94": 5417,
           "95": 6950,
           "96": 2698,
           "97": 11757,
           "98": 2330,
           "99": 14866,
           "bdata": "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",
           "dtype": "i4",
           "shape": "422"
          },
          "bdata": "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",
          "dtype": "i4"
         },
         "xaxis": "x",
         "y": {
          "_inputArray": {
           "0": 128,
           "1": 66,
           "10": 17,
           "100": 30,
           "101": 125,
           "102": 152,
           "103": 50,
           "104": 600,
           "105": 160,
           "106": 187,
           "107": 120,
           "108": 255,
           "109": 98,
           "11": 125,
           "110": 158,
           "111": 75,
           "112": 182,
           "113": 129,
           "114": 200,
           "115": 95,
           "116": 700,
           "117": 187,
           "118": 116,
           "119": 101,
           "12": 100,
           "120": 116,
           "121": 73,
           "122": 108,
           "123": 120,
           "124": 58,
           "125": 168,
           "126": 188,
           "127": 48,
           "128": 76,
           "129": 120,
           "13": 115,
           "130": 187,
           "131": 120,
           "132": 113,
           "133": 90,
           "134": 166,
           "135": 135,
           "136": 124,
           "137": 120,
           "138": 80,
           "139": 55,
           "14": 315,
           "140": 59,
           "141": 240,
           "142": 130,
           "143": 137,
           "144": 100,
           "145": 131,
           "146": 127,
           "147": 116,
           "148": 144,
           "149": 175,
           "15": 191,
           "150": 128,
           "151": 210,
           "152": 158,
           "153": 200,
           "154": 104,
           "155": 42,
           "156": 120,
           "157": 280,
           "158": 140,
           "159": 170,
           "16": 122,
           "160": 122,
           "161": 112,
           "162": 96,
           "163": 120,
           "164": 155,
           "165": 108,
           "166": 123,
           "167": 112,
           "168": 137,
           "169": 123,
           "17": 110,
           "170": 90,
           "171": 104,
           "172": 279,
           "173": 255,
           "174": 330,
           "175": 134,
           "176": 120,
           "177": 128,
           "178": 151,
           "179": 150,
           "18": 120,
           "180": 160,
           "181": 90,
           "182": 30,
           "183": 136,
           "184": 126,
           "185": 150,
           "186": 90,
           "187": 115,
           "188": 207,
           "189": 80,
           "19": 114,
           "190": 436,
           "191": 124,
           "192": 112,
           "193": 78,
           "194": 54,
           "195": 89,
           "196": 120,
           "197": 115,
           "198": 187,
           "199": 139,
           "2": 120,
           "20": 128,
           "200": 134,
           "201": 172,
           "202": 110,
           "203": 200,
           "204": 135,
           "205": 105,
           "206": 132,
           "207": 96,
           "208": 140,
           "209": 135,
           "21": 144,
           "210": 185,
           "211": 84,
           "212": 111,
           "213": 56,
           "214": 144,
           "215": 111,
           "216": 120,
           "217": 88,
           "218": 112,
           "219": 115,
           "22": 184,
           "220": 124,
           "221": 128,
           "222": 132,
           "223": 300,
           "224": 130,
           "225": 184,
           "226": 67,
           "227": 117,
           "228": 98,
           "229": 71,
           "23": 110,
           "230": 490,
           "231": 182,
           "232": 70,
           "233": 160,
           "234": 176,
           "235": 71,
           "236": 158,
           "237": 74,
           "238": 125,
           "239": 160,
           "24": 47,
           "240": 126,
           "241": 259,
           "242": 187,
           "243": 228,
           "244": 95,
           "245": 130,
           "246": 116,
           "247": 165,
           "248": 200,
           "249": 236,
           "25": 75,
           "250": 130,
           "251": 95,
           "252": 141,
           "253": 175,
           "254": 55,
           "255": 155,
           "256": 380,
           "257": 110,
           "258": 120,
           "259": 130,
           "26": 134,
           "260": 130,
           "261": 130,
           "262": 128,
           "263": 296,
           "264": 156,
           "265": 128,
           "266": 113,
           "267": 132,
           "268": 136,
           "269": 125,
           "27": 96,
           "270": 185,
           "271": 275,
           "272": 120,
           "273": 113,
           "274": 113,
           "275": 135,
           "276": 95,
           "277": 109,
           "278": 103,
           "279": 53,
           "28": 88,
           "280": 115,
           "281": 115,
           "282": 66,
           "283": 160,
           "284": 110,
           "285": 60,
           "286": 112,
           "287": 138,
           "288": 138,
           "289": 100,
           "29": 44,
           "290": 96,
           "291": 121,
           "292": 133,
           "293": 87,
           "294": 60,
           "295": 150,
           "296": 405,
           "297": 143,
           "298": 100,
           "299": 128,
           "3": 141,
           "30": 144,
           "300": 50,
           "301": 128,
           "302": 138,
           "303": 187,
           "304": 180,
           "305": 148,
           "306": 152,
           "307": 175,
           "308": 130,
           "309": 110,
           "31": 144,
           "310": 60,
           "311": 90,
           "312": 84,
           "313": 96,
           "314": 118,
           "315": 136,
           "316": 160,
           "317": 128,
           "318": 153,
           "319": 132,
           "32": 100,
           "320": 140,
           "321": 110,
           "322": 98,
           "323": 162,
           "324": 100,
           "325": 93,
           "326": 162,
           "327": 150,
           "328": 230,
           "329": 86,
           "33": 120,
           "330": 154,
           "331": 113,
           "332": 128,
           "333": 234,
           "334": 246,
           "335": 131,
           "336": 160,
           "337": 96,
           "338": 186,
           "339": 110,
           "34": 97,
           "340": 225,
           "341": 105,
           "342": 107,
           "343": 111,
           "344": 95,
           "345": 113,
           "346": 100,
           "347": 208,
           "348": 124,
           "349": 243,
           "35": 96,
           "350": 480,
           "351": 188,
           "352": 40,
           "353": 250,
           "354": 148,
           "355": 150,
           "356": 113,
           "357": 45,
           "358": 55,
           "359": 100,
           "36": 180,
           "360": 480,
           "361": 400,
           "362": 110,
           "363": 161,
           "364": 94,
           "365": 130,
           "366": 216,
           "367": 100,
           "368": 125,
           "369": 126,
           "37": 144,
           "370": 324,
           "371": 107,
           "372": 157,
           "373": 140,
           "374": 95,
           "375": 128,
           "376": 102,
           "377": 155,
           "378": 145,
           "379": 110,
           "38": 120,
           "380": 128,
           "381": 158,
           "382": 26,
           "383": 84,
           "384": 260,
           "385": 162,
           "386": 182,
           "387": 108,
           "388": 600,
           "389": 211,
           "39": 99,
           "390": 132,
           "391": 120,
           "392": 70,
           "393": 186,
           "394": 275,
           "395": 108,
           "396": 110,
           "397": 107,
           "398": 161,
           "399": 205,
           "4": 267,
           "40": 312,
           "400": 36,
           "401": 104,
           "402": 70,
           "403": 94,
           "404": 56,
           "405": 292,
           "406": 142,
           "407": 260,
           "408": 110,
           "409": 180,
           "41": 125,
           "410": 192,
           "411": 155,
           "412": 128,
           "413": 172,
           "414": 496,
           "415": 173,
           "416": 157,
           "417": 108,
           "418": 71,
           "419": 40,
           "42": 172,
           "420": 253,
           "421": 187,
           "43": 97,
           "44": 81,
           "45": 187,
           "46": 130,
           "47": 111,
           "48": 128,
           "49": 50,
           "5": 95,
           "50": 136,
           "51": 99,
           "52": 104,
           "53": 210,
           "54": 175,
           "55": 131,
           "56": 188,
           "57": 81,
           "58": 122,
           "59": 25,
           "6": 168,
           "60": 137,
           "61": 50,
           "62": 115,
           "63": 131,
           "64": 133,
           "65": 151,
           "66": 128,
           "67": 128,
           "68": 160,
           "69": 100,
           "7": 70,
           "70": 225,
           "71": 94,
           "72": 136,
           "73": 139,
           "74": 128,
           "75": 118,
           "76": 185,
           "77": 154,
           "78": 85,
           "79": 259,
           "8": 109,
           "80": 180,
           "81": 44,
           "82": 137,
           "83": 81,
           "84": 194,
           "85": 93,
           "86": 370,
           "87": 128,
           "88": 650,
           "89": 74,
           "9": 200,
           "90": 70,
           "91": 25,
           "92": 102,
           "93": 88,
           "94": 168,
           "95": 175,
           "96": 122,
           "97": 187,
           "98": 100,
           "99": 70,
           "bdata": "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",
           "dtype": "f8",
           "shape": "422"
          },
          "bdata": "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",
          "dtype": "f8"
         },
         "yaxis": "y"
        },
        {
         "customdata": [
          [
           "LP001003"
          ],
          [
           "LP001014"
          ],
          [
           "LP001020"
          ],
          [
           "LP001029"
          ],
          [
           "LP001036"
          ],
          [
           "LP001038"
          ],
          [
           "LP001043"
          ],
          [
           "LP001047"
          ],
          [
           "LP001050"
          ],
          [
           "LP001052"
          ],
          [
           "LP001086"
          ],
          [
           "LP001091"
          ],
          [
           "LP001095"
          ],
          [
           "LP001097"
          ],
          [
           "LP001100"
          ],
          [
           "LP001109"
          ],
          [
           "LP001119"
          ],
          [
           "LP001146"
          ],
          [
           "LP001164"
          ],
          [
           "LP001179"
          ],
          [
           "LP001186"
          ],
          [
           "LP001197"
          ],
          [
           "LP001207"
          ],
          [
           "LP001213"
          ],
          [
           "LP001222"
          ],
          [
           "LP001225"
          ],
          [
           "LP001228"
          ],
          [
           "LP001241"
          ],
          [
           "LP001250"
          ],
          [
           "LP001255"
          ],
          [
           "LP001256"
          ],
          [
           "LP001259"
          ],
          [
           "LP001263"
          ],
          [
           "LP001267"
          ],
          [
           "LP001273"
          ],
          [
           "LP001326"
          ],
          [
           "LP001370"
          ],
          [
           "LP001379"
          ],
          [
           "LP001391"
          ],
          [
           "LP001421"
          ],
          [
           "LP001451"
          ],
          [
           "LP001465"
          ],
          [
           "LP001488"
          ],
          [
           "LP001489"
          ],
          [
           "LP001492"
          ],
          [
           "LP001493"
          ],
          [
           "LP001497"
          ],
          [
           "LP001519"
          ],
          [
           "LP001528"
          ],
          [
           "LP001531"
          ],
          [
           "LP001532"
          ],
          [
           "LP001562"
          ],
          [
           "LP001565"
          ],
          [
           "LP001577"
          ],
          [
           "LP001579"
          ],
          [
           "LP001586"
          ],
          [
           "LP001603"
          ],
          [
           "LP001610"
          ],
          [
           "LP001630"
          ],
          [
           "LP001633"
          ],
          [
           "LP001634"
          ],
          [
           "LP001637"
          ],
          [
           "LP001641"
          ],
          [
           "LP001656"
          ],
          [
           "LP001657"
          ],
          [
           "LP001665"
          ],
          [
           "LP001673"
          ],
          [
           "LP001682"
          ],
          [
           "LP001702"
          ],
          [
           "LP001708"
          ],
          [
           "LP001711"
          ],
          [
           "LP001722"
          ],
          [
           "LP001732"
          ],
          [
           "LP001736"
          ],
          [
           "LP001751"
          ],
          [
           "LP001754"
          ],
          [
           "LP001786"
          ],
          [
           "LP001800"
          ],
          [
           "LP001813"
          ],
          [
           "LP001835"
          ],
          [
           "LP001836"
          ],
          [
           "LP001844"
          ],
          [
           "LP001849"
          ],
          [
           "LP001854"
          ],
          [
           "LP001859"
          ],
          [
           "LP001864"
          ],
          [
           "LP001870"
          ],
          [
           "LP001883"
          ],
          [
           "LP001910"
          ],
          [
           "LP001922"
          ],
          [
           "LP001925"
          ],
          [
           "LP001938"
          ],
          [
           "LP001945"
          ],
          [
           "LP001955"
          ],
          [
           "LP001963"
          ],
          [
           "LP001964"
          ],
          [
           "LP001990"
          ],
          [
           "LP001994"
          ],
          [
           "LP001996"
          ],
          [
           "LP002024"
          ],
          [
           "LP002050"
          ],
          [
           "LP002067"
          ],
          [
           "LP002086"
          ],
          [
           "LP002113"
          ],
          [
           "LP002115"
          ],
          [
           "LP002116"
          ],
          [
           "LP002130"
          ],
          [
           "LP002140"
          ],
          [
           "LP002142"
          ],
          [
           "LP002151"
          ],
          [
           "LP002158"
          ],
          [
           "LP002161"
          ],
          [
           "LP002181"
          ],
          [
           "LP002187"
          ],
          [
           "LP002188"
          ],
          [
           "LP002191"
          ],
          [
           "LP002205"
          ],
          [
           "LP002224"
          ],
          [
           "LP002236"
          ],
          [
           "LP002243"
          ],
          [
           "LP002277"
          ],
          [
           "LP002287"
          ],
          [
           "LP002288"
          ],
          [
           "LP002296"
          ],
          [
           "LP002301"
          ],
          [
           "LP002315"
          ],
          [
           "LP002317"
          ],
          [
           "LP002318"
          ],
          [
           "LP002328"
          ],
          [
           "LP002335"
          ],
          [
           "LP002341"
          ],
          [
           "LP002342"
          ],
          [
           "LP002357"
          ],
          [
           "LP002362"
          ],
          [
           "LP002367"
          ],
          [
           "LP002379"
          ],
          [
           "LP002403"
          ],
          [
           "LP002435"
          ],
          [
           "LP002443"
          ],
          [
           "LP002444"
          ],
          [
           "LP002446"
          ],
          [
           "LP002448"
          ],
          [
           "LP002467"
          ],
          [
           "LP002473"
          ],
          [
           "LP002493"
          ],
          [
           "LP002500"
          ],
          [
           "LP002505"
          ],
          [
           "LP002517"
          ],
          [
           "LP002530"
          ],
          [
           "LP002533"
          ],
          [
           "LP002545"
          ],
          [
           "LP002547"
          ],
          [
           "LP002556"
          ],
          [
           "LP002585"
          ],
          [
           "LP002602"
          ],
          [
           "LP002618"
          ],
          [
           "LP002625"
          ],
          [
           "LP002637"
          ],
          [
           "LP002648"
          ],
          [
           "LP002652"
          ],
          [
           "LP002682"
          ],
          [
           "LP002683"
          ],
          [
           "LP002684"
          ],
          [
           "LP002697"
          ],
          [
           "LP002723"
          ],
          [
           "LP002729"
          ],
          [
           "LP002739"
          ],
          [
           "LP002743"
          ],
          [
           "LP002768"
          ],
          [
           "LP002776"
          ],
          [
           "LP002778"
          ],
          [
           "LP002788"
          ],
          [
           "LP002789"
          ],
          [
           "LP002832"
          ],
          [
           "LP002837"
          ],
          [
           "LP002840"
          ],
          [
           "LP002841"
          ],
          [
           "LP002847"
          ],
          [
           "LP002862"
          ],
          [
           "LP002863"
          ],
          [
           "LP002872"
          ],
          [
           "LP002893"
          ],
          [
           "LP002898"
          ],
          [
           "LP002911"
          ],
          [
           "LP002912"
          ],
          [
           "LP002926"
          ],
          [
           "LP002931"
          ],
          [
           "LP002941"
          ],
          [
           "LP002943"
          ],
          [
           "LP002949"
          ],
          [
           "LP002960"
          ],
          [
           "LP002990"
          ]
         ],
         "hovertemplate": "Loan_Status=N<br>ApplicantIncome=%{x}<br>LoanAmount=%{y}<br>Loan_ID=%{customdata[0]}<extra></extra>",
         "legendgroup": "N",
         "marker": {
          "color": "#e76f51",
          "symbol": "circle"
         },
         "mode": "markers",
         "name": "N",
         "orientation": "v",
         "showlegend": true,
         "type": "scatter",
         "x": {
          "_inputArray": {
           "0": 4583,
           "1": 3036,
           "10": 1442,
           "100": 10000,
           "101": 8666,
           "102": 4333,
           "103": 1830,
           "104": 2647,
           "105": 2378,
           "106": 3523,
           "107": 8750,
           "108": 5500,
           "109": 3875,
           "11": 4166,
           "110": 3000,
           "111": 4723,
           "112": 6216,
           "113": 2500,
           "114": 5124,
           "115": 19730,
           "116": 3062,
           "117": 3069,
           "118": 4566,
           "119": 3010,
           "12": 3167,
           "120": 3180,
           "121": 1500,
           "122": 2889,
           "123": 2755,
           "124": 7441,
           "125": 8300,
           "126": 81000,
           "127": 3867,
           "128": 6096,
           "129": 2149,
           "13": 4692,
           "130": 2600,
           "131": 1600,
           "132": 2720,
           "133": 7250,
           "134": 4606,
           "135": 6500,
           "136": 10416,
           "137": 3539,
           "138": 3340,
           "139": 2769,
           "14": 12500,
           "140": 2309,
           "141": 3948,
           "142": 3708,
           "143": 8334,
           "144": 4166,
           "145": 2947,
           "146": 4333,
           "147": 2653,
           "148": 2873,
           "149": 2947,
           "15": 1828,
           "150": 3547,
           "151": 18333,
           "152": 2435,
           "153": 3597,
           "154": 6283,
           "155": 4050,
           "156": 3583,
           "157": 3598,
           "158": 2130,
           "159": 5815,
           "16": 3600,
           "160": 3074,
           "161": 4683,
           "162": 3400,
           "163": 4680,
           "164": 3588,
           "165": 11250,
           "166": 2917,
           "167": 2138,
           "168": 3358,
           "169": 5000,
           "17": 2645,
           "170": 6633,
           "171": 2454,
           "172": 3593,
           "173": 8799,
           "174": 3400,
           "175": 2378,
           "176": 3166,
           "177": 5116,
           "178": 6125,
           "179": 6406,
           "18": 4230,
           "180": 3087,
           "181": 1836,
           "182": 1880,
           "183": 2787,
           "184": 4283,
           "185": 2726,
           "186": 6000,
           "187": 6383,
           "188": 2987,
           "189": 416,
           "19": 4616,
           "190": 2400,
           "191": 4583,
           "2": 12841,
           "20": 11500,
           "21": 3366,
           "22": 2609,
           "23": 4945,
           "24": 4166,
           "25": 5726,
           "26": 3200,
           "27": 4300,
           "28": 4755,
           "29": 3750,
           "3": 1853,
           "30": 3750,
           "31": 1000,
           "32": 3167,
           "33": 1378,
           "34": 6000,
           "35": 6782,
           "36": 7333,
           "37": 3800,
           "38": 3572,
           "39": 5568,
           "4": 3510,
           "40": 10513,
           "41": 6080,
           "42": 4000,
           "43": 4583,
           "44": 14999,
           "45": 4200,
           "46": 5042,
           "47": 10000,
           "48": 6277,
           "49": 9166,
           "5": 4887,
           "50": 2281,
           "51": 7933,
           "52": 3089,
           "53": 4583,
           "54": 2237,
           "55": 3522,
           "56": 4344,
           "57": 5516,
           "58": 2333,
           "59": 6400,
           "6": 7660,
           "60": 1916,
           "61": 33846,
           "62": 2178,
           "63": 12000,
           "64": 6033,
           "65": 3125,
           "66": 11000,
           "67": 3992,
           "68": 3418,
           "69": 10000,
           "7": 2600,
           "70": 3430,
           "71": 150,
           "72": 5000,
           "73": 2221,
           "74": 3250,
           "75": 4735,
           "76": 5746,
           "77": 2510,
           "78": 6050,
           "79": 1668,
           "8": 3365,
           "80": 3427,
           "81": 16250,
           "82": 6045,
           "83": 5250,
           "84": 14683,
           "85": 4931,
           "86": 3481,
           "87": 3418,
           "88": 4053,
           "89": 20667,
           "9": 3717,
           "90": 2600,
           "91": 4400,
           "92": 5417,
           "93": 5000,
           "94": 2014,
           "95": 1800,
           "96": 2000,
           "97": 2400,
           "98": 20233,
           "99": 2473,
           "bdata": "5xEAANwLAAApMgAAPQcAALYNAAAXEwAA7B0AACgKAAAlDQAAhQ4AAKIFAABGEAAAXwwAAFQSAADUMAAAJAcAABAOAABVCgAAhhAAAAgSAADsLAAAJg0AADEKAABREwAARhAAAF4WAACADAAAzBAAAJMSAACmDgAApg4AAOgDAABfDAAAYgUAAHAXAAB+GgAApRwAANgOAAD0DQAAwBUAABEpAADAFwAAoA8AAOcRAACXOgAAaBAAALITAAAQJwAAhRgAAM4jAADpCAAA/R4AABEMAADnEQAAvQgAAMINAAD4EAAAjBUAAB0JAAAAGQAAfAcAADaEAACCCAAA4C4AAJEXAAA1DAAA+CoAAJgPAABaDQAAECcAAGYNAACWAAAAiBMAAK0IAACyDAAAfxIAAHIWAADOCQAAohcAAIQGAABjDQAAej8AAJ0XAACCFAAAWzkAAEMTAACZDQAAWg0AANUPAAC7UAAAKAoAADARAAApFQAAiBMAAN4HAAAIBwAA0AcAAGAJAAAJTwAAqQkAABAnAADaIQAA7RAAACYHAABXCgAASgkAAMMNAAAuIgAAfBUAACMPAAC4CwAAcxIAAEgYAADECQAABBQAABJNAAD2CwAA/QsAANYRAADCCwAAbAwAANwFAABJCwAAwwoAABEdAABsIAAAaDwBABsPAADQFwAAZQgAACgKAABABgAAoAoAAFIcAAD+EQAAZBkAALAoAADTDQAADA0AANEKAAAFCQAAbA8AAHwOAACOIAAARhAAAIMLAADtEAAAXQoAADkLAACDCwAA2w0AAJ1HAACDCQAADQ4AAIsYAADSDwAA/w0AAA4OAABSCAAAtxYAAAIMAABLEgAASA0AAEgSAAAEDgAA8isAAGULAABaCAAAHg0AAIgTAADpGQAAlgkAAAkOAABfIgAASA0AAEoJAABeDAAA/BMAAO0XAAAGGQAADwwAACwHAABYBwAA4woAALsQAACmCgAAcBcAAO8YAACrCwAAoAEAAGAJAADnEQAA",
           "dtype": "i4",
           "shape": "192"
          },
          "bdata": "5xEAANwLAAApMgAAPQcAALYNAAAXEwAA7B0AACgKAAAlDQAAhQ4AAKIFAABGEAAAXwwAAFQSAADUMAAAJAcAABAOAABVCgAAhhAAAAgSAADsLAAAJg0AADEKAABREwAARhAAAF4WAACADAAAzBAAAJMSAACmDgAApg4AAOgDAABfDAAAYgUAAHAXAAB+GgAApRwAANgOAAD0DQAAwBUAABEpAADAFwAAoA8AAOcRAACXOgAAaBAAALITAAAQJwAAhRgAAM4jAADpCAAA/R4AABEMAADnEQAAvQgAAMINAAD4EAAAjBUAAB0JAAAAGQAAfAcAADaEAACCCAAA4C4AAJEXAAA1DAAA+CoAAJgPAABaDQAAECcAAGYNAACWAAAAiBMAAK0IAACyDAAAfxIAAHIWAADOCQAAohcAAIQGAABjDQAAej8AAJ0XAACCFAAAWzkAAEMTAACZDQAAWg0AANUPAAC7UAAAKAoAADARAAApFQAAiBMAAN4HAAAIBwAA0AcAAGAJAAAJTwAAqQkAABAnAADaIQAA7RAAACYHAABXCgAASgkAAMMNAAAuIgAAfBUAACMPAAC4CwAAcxIAAEgYAADECQAABBQAABJNAAD2CwAA/QsAANYRAADCCwAAbAwAANwFAABJCwAAwwoAABEdAABsIAAAaDwBABsPAADQFwAAZQgAACgKAABABgAAoAoAAFIcAAD+EQAAZBkAALAoAADTDQAADA0AANEKAAAFCQAAbA8AAHwOAACOIAAARhAAAIMLAADtEAAAXQoAADkLAACDCwAA2w0AAJ1HAACDCQAADQ4AAIsYAADSDwAA/w0AAA4OAABSCAAAtxYAAAIMAABLEgAASA0AAEgSAAAEDgAA8isAAGULAABaCAAAHg0AAIgTAADpGQAAlgkAAAkOAABfIgAASA0AAEoJAABeDAAA/BMAAO0XAAAGGQAADwwAACwHAABYBwAA4woAALsQAACmCgAAcBcAAO8YAACrCwAAoAEAAGAJAADnEQAA",
          "dtype": "i4"
         },
         "xaxis": "x",
         "y": {
          "_inputArray": {
           "0": 128,
           "1": 158,
           "10": 35,
           "100": 155,
           "101": 376,
           "102": 110,
           "103": 128,
           "104": 173,
           "105": 46,
           "106": 152,
           "107": 308,
           "108": 105,
           "109": 67,
           "11": 201,
           "110": 100,
           "111": 81,
           "112": 133,
           "113": 96,
           "114": 124,
           "115": 570,
           "116": 111,
           "117": 71,
           "118": 100,
           "119": 128,
           "12": 74,
           "120": 71,
           "121": 103,
           "122": 45,
           "123": 65,
           "124": 194,
           "125": 152,
           "126": 360,
           "127": 62,
           "128": 218,
           "129": 178,
           "13": 106,
           "130": 160,
           "131": 239,
           "132": 80,
           "133": 110,
           "134": 81,
           "135": 105,
           "136": 187,
           "137": 55,
           "138": 150,
           "139": 190,
           "14": 320,
           "140": 125,
           "141": 149,
           "142": 173,
           "143": 160,
           "144": 98,
           "145": 70,
           "146": 110,
           "147": 113,
           "148": 132,
           "149": 128,
           "15": 100,
           "150": 80,
           "151": 500,
           "152": 75,
           "153": 119,
           "154": 209,
           "155": 138,
           "156": 96,
           "157": 100,
           "158": 70,
           "159": 311,
           "16": 80,
           "160": 123,
           "161": 185,
           "162": 95,
           "163": 128,
           "164": 110,
           "165": 196,
           "166": 66,
           "167": 99,
           "168": 80,
           "169": 103,
           "17": 120,
           "170": 128,
           "171": 181,
           "172": 132,
           "173": 258,
           "174": 123,
           "175": 9,
           "176": 104,
           "177": 165,
           "178": 187,
           "179": 150,
           "18": 112,
           "180": 136,
           "181": 90,
           "182": 61,
           "183": 146,
           "184": 172,
           "185": 106,
           "186": 205,
           "187": 187,
           "188": 88,
           "189": 350,
           "19": 134,
           "190": 128,
           "191": 133,
           "2": 349,
           "20": 286,
           "21": 135,
           "22": 165,
           "23": 128,
           "24": 116,
           "25": 258,
           "26": 126,
           "27": 136,
           "28": 95,
           "29": 113,
           "3": 114,
           "30": 176,
           "31": 110,
           "32": 180,
           "33": 167,
           "34": 265,
           "35": 128,
           "36": 120,
           "37": 216,
           "38": 152,
           "39": 175,
           "4": 76,
           "40": 160,
           "41": 182,
           "42": 290,
           "43": 84,
           "44": 242,
           "45": 129,
           "46": 185,
           "47": 225,
           "48": 118,
           "49": 244,
           "5": 133,
           "50": 113,
           "51": 275,
           "52": 121,
           "53": 112,
           "54": 63,
           "55": 81,
           "56": 87,
           "57": 495,
           "58": 102,
           "59": 180,
           "6": 104,
           "60": 67,
           "61": 260,
           "62": 66,
           "63": 164,
           "64": 160,
           "65": 170,
           "66": 83,
           "67": 128,
           "68": 127,
           "69": 214,
           "7": 116,
           "70": 128,
           "71": 135,
           "72": 72,
           "73": 60,
           "74": 170,
           "75": 138,
           "76": 255,
           "77": 140,
           "78": 120,
           "79": 201,
           "8": 112,
           "80": 138,
           "81": 192,
           "82": 115,
           "83": 94,
           "84": 304,
           "85": 128,
           "86": 155,
           "87": 135,
           "88": 158,
           "89": 128,
           "9": 151,
           "90": 99,
           "91": 127,
           "92": 143,
           "93": 151,
           "94": 113,
           "95": 93,
           "96": 128,
           "97": 104,
           "98": 480,
           "99": 159,
           "bdata": "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",
           "dtype": "f8",
           "shape": "192"
          },
          "bdata": "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",
          "dtype": "f8"
         },
         "yaxis": "y"
        }
       ],
       "layout": {
        "autosize": true,
        "legend": {
         "title": {
          "text": "Loan_Status"
         },
         "tracegroupgap": 0
        },
        "template": {
         "data": {
          "bar": [
           {
            "error_x": {
             "color": "#2a3f5f"
            },
            "error_y": {
             "color": "#2a3f5f"
            },
            "marker": {
             "line": {
              "color": "#E5ECF6",
              "width": 0.5
             },
             "pattern": {
              "fillmode": "overlay",
              "size": 10,
              "solidity": 0.2
             }
            },
            "type": "bar"
           }
          ],
          "barpolar": [
           {
            "marker": {
             "line": {
              "color": "#E5ECF6",
              "width": 0.5
             },
             "pattern": {
              "fillmode": "overlay",
              "size": 10,
              "solidity": 0.2
             }
            },
            "type": "barpolar"
           }
          ],
          "carpet": [
           {
            "aaxis": {
             "endlinecolor": "#2a3f5f",
             "gridcolor": "white",
             "linecolor": "white",
             "minorgridcolor": "white",
             "startlinecolor": "#2a3f5f"
            },
            "baxis": {
             "endlinecolor": "#2a3f5f",
             "gridcolor": "white",
             "linecolor": "white",
             "minorgridcolor": "white",
             "startlinecolor": "#2a3f5f"
            },
            "type": "carpet"
           }
          ],
          "choropleth": [
           {
            "colorbar": {
             "outlinewidth": 0,
             "ticks": ""
            },
            "type": "choropleth"
           }
          ],
          "contour": [
           {
            "colorbar": {
             "outlinewidth": 0,
             "ticks": ""
            },
            "colorscale": [
             [
              0,
              "#0d0887"
             ],
             [
              0.1111111111111111,
              "#46039f"
             ],
             [
              0.2222222222222222,
              "#7201a8"
             ],
             [
              0.3333333333333333,
              "#9c179e"
             ],
             [
              0.4444444444444444,
              "#bd3786"
             ],
             [
              0.5555555555555556,
              "#d8576b"
             ],
             [
              0.6666666666666666,
              "#ed7953"
             ],
             [
              0.7777777777777778,
              "#fb9f3a"
             ],
             [
              0.8888888888888888,
              "#fdca26"
             ],
             [
              1,
              "#f0f921"
             ]
            ],
            "type": "contour"
           }
          ],
          "contourcarpet": [
           {
            "colorbar": {
             "outlinewidth": 0,
             "ticks": ""
            },
            "type": "contourcarpet"
           }
          ],
          "heatmap": [
           {
            "colorbar": {
             "outlinewidth": 0,
             "ticks": ""
            },
            "colorscale": [
             [
              0,
              "#0d0887"
             ],
             [
              0.1111111111111111,
              "#46039f"
             ],
             [
              0.2222222222222222,
              "#7201a8"
             ],
             [
              0.3333333333333333,
              "#9c179e"
             ],
             [
              0.4444444444444444,
              "#bd3786"
             ],
             [
              0.5555555555555556,
              "#d8576b"
             ],
             [
              0.6666666666666666,
              "#ed7953"
             ],
             [
              0.7777777777777778,
              "#fb9f3a"
             ],
             [
              0.8888888888888888,
              "#fdca26"
             ],
             [
              1,
              "#f0f921"
             ]
            ],
            "type": "heatmap"
           }
          ],
          "histogram": [
           {
            "marker": {
             "pattern": {
              "fillmode": "overlay",
              "size": 10,
              "solidity": 0.2
             }
            },
            "type": "histogram"
           }
          ],
          "histogram2d": [
           {
            "colorbar": {
             "outlinewidth": 0,
             "ticks": ""
            },
            "colorscale": [
             [
              0,
              "#0d0887"
             ],
             [
              0.1111111111111111,
              "#46039f"
             ],
             [
              0.2222222222222222,
              "#7201a8"
             ],
             [
              0.3333333333333333,
              "#9c179e"
             ],
             [
              0.4444444444444444,
              "#bd3786"
             ],
             [
              0.5555555555555556,
              "#d8576b"
             ],
             [
              0.6666666666666666,
              "#ed7953"
             ],
             [
              0.7777777777777778,
              "#fb9f3a"
             ],
             [
              0.8888888888888888,
              "#fdca26"
             ],
             [
              1,
              "#f0f921"
             ]
            ],
            "type": "histogram2d"
           }
          ],
          "histogram2dcontour": [
           {
            "colorbar": {
             "outlinewidth": 0,
             "ticks": ""
            },
            "colorscale": [
             [
              0,
              "#0d0887"
             ],
             [
              0.1111111111111111,
              "#46039f"
             ],
             [
              0.2222222222222222,
              "#7201a8"
             ],
             [
              0.3333333333333333,
              "#9c179e"
             ],
             [
              0.4444444444444444,
              "#bd3786"
             ],
             [
              0.5555555555555556,
              "#d8576b"
             ],
             [
              0.6666666666666666,
              "#ed7953"
             ],
             [
              0.7777777777777778,
              "#fb9f3a"
             ],
             [
              0.8888888888888888,
              "#fdca26"
             ],
             [
              1,
              "#f0f921"
             ]
            ],
            "type": "histogram2dcontour"
           }
          ],
          "mesh3d": [
           {
            "colorbar": {
             "outlinewidth": 0,
             "ticks": ""
            },
            "type": "mesh3d"
           }
          ],
          "parcoords": [
           {
            "line": {
             "colorbar": {
              "outlinewidth": 0,
              "ticks": ""
             }
            },
            "type": "parcoords"
           }
          ],
          "pie": [
           {
            "automargin": true,
            "type": "pie"
           }
          ],
          "scatter": [
           {
            "fillpattern": {
             "fillmode": "overlay",
             "size": 10,
             "solidity": 0.2
            },
            "type": "scatter"
           }
          ],
          "scatter3d": [
           {
            "line": {
             "colorbar": {
              "outlinewidth": 0,
              "ticks": ""
             }
            },
            "marker": {
             "colorbar": {
              "outlinewidth": 0,
              "ticks": ""
             }
            },
            "type": "scatter3d"
           }
          ],
          "scattercarpet": [
           {
            "marker": {
             "colorbar": {
              "outlinewidth": 0,
              "ticks": ""
             }
            },
            "type": "scattercarpet"
           }
          ],
          "scattergeo": [
           {
            "marker": {
             "colorbar": {
              "outlinewidth": 0,
              "ticks": ""
             }
            },
            "type": "scattergeo"
           }
          ],
          "scattergl": [
           {
            "marker": {
             "colorbar": {
              "outlinewidth": 0,
              "ticks": ""
             }
            },
            "type": "scattergl"
           }
          ],
          "scattermap": [
           {
            "marker": {
             "colorbar": {
              "outlinewidth": 0,
              "ticks": ""
             }
            },
            "type": "scattermap"
           }
          ],
          "scattermapbox": [
           {
            "marker": {
             "colorbar": {
              "outlinewidth": 0,
              "ticks": ""
             }
            },
            "type": "scattermapbox"
           }
          ],
          "scatterpolar": [
           {
            "marker": {
             "colorbar": {
              "outlinewidth": 0,
              "ticks": ""
             }
            },
            "type": "scatterpolar"
           }
          ],
          "scatterpolargl": [
           {
            "marker": {
             "colorbar": {
              "outlinewidth": 0,
              "ticks": ""
             }
            },
            "type": "scatterpolargl"
           }
          ],
          "scatterternary": [
           {
            "marker": {
             "colorbar": {
              "outlinewidth": 0,
              "ticks": ""
             }
            },
            "type": "scatterternary"
           }
          ],
          "surface": [
           {
            "colorbar": {
             "outlinewidth": 0,
             "ticks": ""
            },
            "colorscale": [
             [
              0,
              "#0d0887"
             ],
             [
              0.1111111111111111,
              "#46039f"
             ],
             [
              0.2222222222222222,
              "#7201a8"
             ],
             [
              0.3333333333333333,
              "#9c179e"
             ],
             [
              0.4444444444444444,
              "#bd3786"
             ],
             [
              0.5555555555555556,
              "#d8576b"
             ],
             [
              0.6666666666666666,
              "#ed7953"
             ],
             [
              0.7777777777777778,
              "#fb9f3a"
             ],
             [
              0.8888888888888888,
              "#fdca26"
             ],
             [
              1,
              "#f0f921"
             ]
            ],
            "type": "surface"
           }
          ],
          "table": [
           {
            "cells": {
             "fill": {
              "color": "#EBF0F8"
             },
             "line": {
              "color": "white"
             }
            },
            "header": {
             "fill": {
              "color": "#C8D4E3"
             },
             "line": {
              "color": "white"
             }
            },
            "type": "table"
           }
          ]
         },
         "layout": {
          "annotationdefaults": {
           "arrowcolor": "#2a3f5f",
           "arrowhead": 0,
           "arrowwidth": 1
          },
          "autotypenumbers": "strict",
          "coloraxis": {
           "colorbar": {
            "outlinewidth": 0,
            "ticks": ""
           }
          },
          "colorscale": {
           "diverging": [
            [
             0,
             "#8e0152"
            ],
            [
             0.1,
             "#c51b7d"
            ],
            [
             0.2,
             "#de77ae"
            ],
            [
             0.3,
             "#f1b6da"
            ],
            [
             0.4,
             "#fde0ef"
            ],
            [
             0.5,
             "#f7f7f7"
            ],
            [
             0.6,
             "#e6f5d0"
            ],
            [
             0.7,
             "#b8e186"
            ],
            [
             0.8,
             "#7fbc41"
            ],
            [
             0.9,
             "#4d9221"
            ],
            [
             1,
             "#276419"
            ]
           ],
           "sequential": [
            [
             0,
             "#0d0887"
            ],
            [
             0.1111111111111111,
             "#46039f"
            ],
            [
             0.2222222222222222,
             "#7201a8"
            ],
            [
             0.3333333333333333,
             "#9c179e"
            ],
            [
             0.4444444444444444,
             "#bd3786"
            ],
            [
             0.5555555555555556,
             "#d8576b"
            ],
            [
             0.6666666666666666,
             "#ed7953"
            ],
            [
             0.7777777777777778,
             "#fb9f3a"
            ],
            [
             0.8888888888888888,
             "#fdca26"
            ],
            [
             1,
             "#f0f921"
            ]
           ],
           "sequentialminus": [
            [
             0,
             "#0d0887"
            ],
            [
             0.1111111111111111,
             "#46039f"
            ],
            [
             0.2222222222222222,
             "#7201a8"
            ],
            [
             0.3333333333333333,
             "#9c179e"
            ],
            [
             0.4444444444444444,
             "#bd3786"
            ],
            [
             0.5555555555555556,
             "#d8576b"
            ],
            [
             0.6666666666666666,
             "#ed7953"
            ],
            [
             0.7777777777777778,
             "#fb9f3a"
            ],
            [
             0.8888888888888888,
             "#fdca26"
            ],
            [
             1,
             "#f0f921"
            ]
           ]
          },
          "colorway": [
           "#636efa",
           "#EF553B",
           "#00cc96",
           "#ab63fa",
           "#FFA15A",
           "#19d3f3",
           "#FF6692",
           "#B6E880",
           "#FF97FF",
           "#FECB52"
          ],
          "font": {
           "color": "#2a3f5f"
          },
          "geo": {
           "bgcolor": "white",
           "lakecolor": "white",
           "landcolor": "#E5ECF6",
           "showlakes": true,
           "showland": true,
           "subunitcolor": "white"
          },
          "hoverlabel": {
           "align": "left"
          },
          "hovermode": "closest",
          "mapbox": {
           "style": "light"
          },
          "paper_bgcolor": "white",
          "plot_bgcolor": "#E5ECF6",
          "polar": {
           "angularaxis": {
            "gridcolor": "white",
            "linecolor": "white",
            "ticks": ""
           },
           "bgcolor": "#E5ECF6",
           "radialaxis": {
            "gridcolor": "white",
            "linecolor": "white",
            "ticks": ""
           }
          },
          "scene": {
           "xaxis": {
            "backgroundcolor": "#E5ECF6",
            "gridcolor": "white",
            "gridwidth": 2,
            "linecolor": "white",
            "showbackground": true,
            "ticks": "",
            "zerolinecolor": "white"
           },
           "yaxis": {
            "backgroundcolor": "#E5ECF6",
            "gridcolor": "white",
            "gridwidth": 2,
            "linecolor": "white",
            "showbackground": true,
            "ticks": "",
            "zerolinecolor": "white"
           },
           "zaxis": {
            "backgroundcolor": "#E5ECF6",
            "gridcolor": "white",
            "gridwidth": 2,
            "linecolor": "white",
            "showbackground": true,
            "ticks": "",
            "zerolinecolor": "white"
           }
          },
          "shapedefaults": {
           "line": {
            "color": "#2a3f5f"
           }
          },
          "ternary": {
           "aaxis": {
            "gridcolor": "white",
            "linecolor": "white",
            "ticks": ""
           },
           "baxis": {
            "gridcolor": "white",
            "linecolor": "white",
            "ticks": ""
           },
           "bgcolor": "#E5ECF6",
           "caxis": {
            "gridcolor": "white",
            "linecolor": "white",
            "ticks": ""
           }
          },
          "title": {
           "x": 0.05
          },
          "xaxis": {
           "automargin": true,
           "gridcolor": "white",
           "linecolor": "white",
           "ticks": "",
           "title": {
            "standoff": 15
           },
           "zerolinecolor": "white",
           "zerolinewidth": 2
          },
          "yaxis": {
           "automargin": true,
           "gridcolor": "white",
           "linecolor": "white",
           "ticks": "",
           "title": {
            "standoff": 15
           },
           "zerolinecolor": "white",
           "zerolinewidth": 2
          }
         }
        },
        "title": {
         "text": "Applicant Income vs Loan Amount (Colored by Approval)"
        },
        "xaxis": {
         "anchor": "y",
         "autorange": true,
         "domain": [
          0,
          1
         ],
         "range": [
          -4760.978342046303,
          85910.9783420463
         ],
         "title": {
          "text": "Applicant Income"
         },
         "type": "linear"
        },
        "yaxis": {
         "anchor": "x",
         "autorange": true,
         "domain": [
          0,
          1
         ],
         "range": [
          -48.0242718446602,
          757.0242718446602
         ],
         "title": {
          "text": "Loan Amount (in thousands)"
         },
         "type": "linear"
        }
       }
      },
      "image/png": "[encoded data removed]"
     },
     "metadata": {},
     "output_type": "display_data"
    }
   ],
   "source": [
    "fig3 = px.scatter(df, x='ApplicantIncome', y='LoanAmount', color='Loan_Status',\n",
    "                  title='Applicant Income vs Loan Amount (Colored by Approval)',\n",
    "                  hover_data=['Loan_ID'],\n",
    "                  color_discrete_map={'Y': '#2a9d8f', 'N': '#e76f51'})\n",
    "fig3.update_layout(xaxis_title=\"Applicant Income\", yaxis_title=\"Loan Amount (in thousands)\")\n",
    "fig3.show()"
   ]
  },
  {
   "cell_type": "markdown",
   "id": "c9f7bdde-f0c1-4492-956d-45094cbd69ff",
   "metadata": {},
   "source": [
    "# Education vs Loan Approval"
   ]
  },
  {
   "cell_type": "code",
   "execution_count": 44,
   "id": "84852b66-4eb4-437b-89e6-972a7db288d7",
   "metadata": {},
   "outputs": [
    {
     "data": {
      "application/vnd.plotly.v1+json": {
       "config": {
        "plotlyServerURL": "https://plot.ly"
       },
       "data": [
        {
         "bingroup": "x",
         "hovertemplate": "Loan_Status=Y<br>Education=%{x}<br>count=%{y}<extra></extra>",
         "legendgroup": "Y",
         "marker": {
          "color": "#2a9d8f",
          "pattern": {
           "shape": ""
          }
         },
         "name": "Y",
         "orientation": "v",
         "showlegend": true,
         "type": "histogram",
         "x": [
          "Graduate",
          "Graduate",
          "Not Graduate",
          "Graduate",
          "Graduate",
          "Not Graduate",
          "Graduate",
          "Graduate",
          "Graduate",
          "Graduate",
          "Graduate",
          "Graduate",
          "Not Graduate",
          "Graduate",
          "Graduate",
          "Graduate",
          "Graduate",
          "Not Graduate",
          "Graduate",
          "Graduate",
          "Graduate",
          "Graduate",
          "Graduate",
          "Not Graduate",
          "Graduate",
          "Graduate",
          "Graduate",
          "Not Graduate",
          "Graduate",
          "Graduate",
          "Graduate",
          "Graduate",
          "Not Graduate",
          "Graduate",
          "Graduate",
          "Graduate",
          "Graduate",
          "Not Graduate",
          "Graduate",
          "Graduate",
          "Graduate",
          "Not Graduate",
          "Graduate",
          "Not Graduate",
          "Graduate",
          "Graduate",
          "Not Graduate",
          "Graduate",
          "Graduate",
          "Graduate",
          "Graduate",
          "Not Graduate",
          "Graduate",
          "Graduate",
          "Graduate",
          "Graduate",
          "Graduate",
          "Not Graduate",
          "Graduate",
          "Not Graduate",
          "Graduate",
          "Graduate",
          "Not Graduate",
          "Graduate",
          "Not Graduate",
          "Graduate",
          "Graduate",
          "Graduate",
          "Graduate",
          "Graduate",
          "Graduate",
          "Not Graduate",
          "Graduate",
          "Graduate",
          "Graduate",
          "Graduate",
          "Graduate",
          "Graduate",
          "Graduate",
          "Graduate",
          "Graduate",
          "Graduate",
          "Graduate",
          "Graduate",
          "Not Graduate",
          "Graduate",
          "Graduate",
          "Graduate",
          "Graduate",
          "Graduate",
          "Graduate",
          "Graduate",
          "Graduate",
          "Graduate",
          "Graduate",
          "Graduate",
          "Graduate",
          "Graduate",
          "Graduate",
          "Graduate",
          "Graduate",
          "Graduate",
          "Graduate",
          "Graduate",
          "Graduate",
          "Graduate",
          "Graduate",
          "Graduate",
          "Graduate",
          "Not Graduate",
          "Graduate",
          "Graduate",
          "Graduate",
          "Graduate",
          "Graduate",
          "Not Graduate",
          "Graduate",
          "Graduate",
          "Graduate",
          "Graduate",
          "Graduate",
          "Graduate",
          "Graduate",
          "Graduate",
          "Graduate",
          "Graduate",
          "Graduate",
          "Not Graduate",
          "Graduate",
          "Graduate",
          "Graduate",
          "Not Graduate",
          "Graduate",
          "Not Graduate",
          "Graduate",
          "Not Graduate",
          "Not Graduate",
          "Not Graduate",
          "Graduate",
          "Not Graduate",
          "Graduate",
          "Graduate",
          "Not Graduate",
          "Graduate",
          "Not Graduate",
          "Graduate",
          "Graduate",
          "Graduate",
          "Graduate",
          "Graduate",
          "Graduate",
          "Graduate",
          "Graduate",
          "Graduate",
          "Graduate",
          "Graduate",
          "Not Graduate",
          "Graduate",
          "Graduate",
          "Graduate",
          "Graduate",
          "Graduate",
          "Graduate",
          "Graduate",
          "Graduate",
          "Graduate",
          "Not Graduate",
          "Graduate",
          "Not Graduate",
          "Graduate",
          "Graduate",
          "Not Graduate",
          "Not Graduate",
          "Graduate",
          "Graduate",
          "Graduate",
          "Graduate",
          "Graduate",
          "Graduate",
          "Graduate",
          "Graduate",
          "Graduate",
          "Graduate",
          "Graduate",
          "Graduate",
          "Graduate",
          "Graduate",
          "Graduate",
          "Graduate",
          "Graduate",
          "Graduate",
          "Not Graduate",
          "Graduate",
          "Graduate",
          "Graduate",
          "Graduate",
          "Graduate",
          "Graduate",
          "Graduate",
          "Graduate",
          "Graduate",
          "Graduate",
          "Graduate",
          "Graduate",
          "Graduate",
          "Not Graduate",
          "Graduate",
          "Graduate",
          "Graduate",
          "Graduate",
          "Not Graduate",
          "Graduate",
          "Not Graduate",
          "Graduate",
          "Graduate",
          "Not Graduate",
          "Graduate",
          "Graduate",
          "Graduate",
          "Graduate",
          "Graduate",
          "Not Graduate",
          "Graduate",
          "Graduate",
          "Graduate",
          "Graduate",
          "Graduate",
          "Graduate",
          "Graduate",
          "Graduate",
          "Graduate",
          "Graduate",
          "Graduate",
          "Graduate",
          "Graduate",
          "Graduate",
          "Not Graduate",
          "Not Graduate",
          "Graduate",
          "Graduate",
          "Not Graduate",
          "Graduate",
          "Graduate",
          "Graduate",
          "Graduate",
          "Graduate",
          "Graduate",
          "Graduate",
          "Graduate",
          "Graduate",
          "Graduate",
          "Graduate",
          "Graduate",
          "Graduate",
          "Graduate",
          "Graduate",
          "Graduate",
          "Graduate",
          "Graduate",
          "Graduate",
          "Graduate",
          "Graduate",
          "Graduate",
          "Graduate",
          "Graduate",
          "Graduate",
          "Graduate",
          "Not Graduate",
          "Graduate",
          "Graduate",
          "Graduate",
          "Graduate",
          "Graduate",
          "Not Graduate",
          "Graduate",
          "Graduate",
          "Graduate",
          "Not Graduate",
          "Graduate",
          "Not Graduate",
          "Graduate",
          "Not Graduate",
          "Not Graduate",
          "Graduate",
          "Not Graduate",
          "Graduate",
          "Graduate",
          "Graduate",
          "Graduate",
          "Graduate",
          "Graduate",
          "Graduate",
          "Graduate",
          "Graduate",
          "Not Graduate",
          "Graduate",
          "Graduate",
          "Graduate",
          "Graduate",
          "Graduate",
          "Graduate",
          "Graduate",
          "Not Graduate",
          "Graduate",
          "Graduate",
          "Not Graduate",
          "Graduate",
          "Graduate",
          "Graduate",
          "Not Graduate",
          "Not Graduate",
          "Graduate",
          "Graduate",
          "Graduate",
          "Graduate",
          "Graduate",
          "Graduate",
          "Graduate",
          "Graduate",
          "Not Graduate",
          "Graduate",
          "Graduate",
          "Not Graduate",
          "Graduate",
          "Graduate",
          "Graduate",
          "Graduate",
          "Graduate",
          "Graduate",
          "Graduate",
          "Not Graduate",
          "Not Graduate",
          "Graduate",
          "Graduate",
          "Graduate",
          "Not Graduate",
          "Graduate",
          "Not Graduate",
          "Not Graduate",
          "Not Graduate",
          "Not Graduate",
          "Graduate",
          "Not Graduate",
          "Graduate",
          "Graduate",
          "Graduate",
          "Graduate",
          "Graduate",
          "Not Graduate",
          "Graduate",
          "Graduate",
          "Graduate",
          "Graduate",
          "Graduate",
          "Graduate",
          "Graduate",
          "Graduate",
          "Not Graduate",
          "Graduate",
          "Graduate",
          "Graduate",
          "Graduate",
          "Graduate",
          "Not Graduate",
          "Not Graduate",
          "Not Graduate",
          "Graduate",
          "Graduate",
          "Not Graduate",
          "Not Graduate",
          "Graduate",
          "Graduate",
          "Graduate",
          "Graduate",
          "Graduate",
          "Not Graduate",
          "Not Graduate",
          "Graduate",
          "Graduate",
          "Graduate",
          "Not Graduate",
          "Graduate",
          "Graduate",
          "Graduate",
          "Graduate",
          "Graduate",
          "Graduate",
          "Not Graduate",
          "Graduate",
          "Graduate",
          "Not Graduate",
          "Not Graduate",
          "Graduate",
          "Graduate",
          "Graduate",
          "Graduate",
          "Graduate",
          "Graduate",
          "Graduate",
          "Graduate",
          "Graduate",
          "Graduate",
          "Not Graduate",
          "Graduate",
          "Graduate",
          "Graduate",
          "Graduate",
          "Graduate",
          "Not Graduate",
          "Graduate",
          "Graduate",
          "Not Graduate",
          "Graduate",
          "Graduate",
          "Graduate",
          "Graduate",
          "Not Graduate",
          "Graduate",
          "Graduate",
          "Graduate",
          "Graduate",
          "Graduate"
         ],
         "xaxis": "x",
         "yaxis": "y"
        },
        {
         "bingroup": "x",
         "hovertemplate": "Loan_Status=N<br>Education=%{x}<br>count=%{y}<extra></extra>",
         "legendgroup": "N",
         "marker": {
          "color": "#e76f51",
          "pattern": {
           "shape": ""
          }
         },
         "name": "N",
         "orientation": "v",
         "showlegend": true,
         "type": "histogram",
         "x": [
          "Graduate",
          "Graduate",
          "Graduate",
          "Graduate",
          "Graduate",
          "Not Graduate",
          "Not Graduate",
          "Not Graduate",
          "Not Graduate",
          "Graduate",
          "Not Graduate",
          "Graduate",
          "Graduate",
          "Graduate",
          "Graduate",
          "Graduate",
          "Graduate",
          "Graduate",
          "Graduate",
          "Graduate",
          "Graduate",
          "Graduate",
          "Not Graduate",
          "Graduate",
          "Graduate",
          "Graduate",
          "Not Graduate",
          "Graduate",
          "Not Graduate",
          "Graduate",
          "Graduate",
          "Graduate",
          "Graduate",
          "Graduate",
          "Graduate",
          "Graduate",
          "Not Graduate",
          "Graduate",
          "Not Graduate",
          "Graduate",
          "Graduate",
          "Graduate",
          "Graduate",
          "Graduate",
          "Graduate",
          "Not Graduate",
          "Graduate",
          "Graduate",
          "Graduate",
          "Graduate",
          "Not Graduate",
          "Graduate",
          "Graduate",
          "Graduate",
          "Graduate",
          "Not Graduate",
          "Not Graduate",
          "Graduate",
          "Not Graduate",
          "Graduate",
          "Graduate",
          "Graduate",
          "Graduate",
          "Graduate",
          "Not Graduate",
          "Graduate",
          "Graduate",
          "Not Graduate",
          "Graduate",
          "Graduate",
          "Graduate",
          "Graduate",
          "Graduate",
          "Graduate",
          "Graduate",
          "Not Graduate",
          "Graduate",
          "Not Graduate",
          "Graduate",
          "Not Graduate",
          "Graduate",
          "Graduate",
          "Not Graduate",
          "Graduate",
          "Graduate",
          "Not Graduate",
          "Graduate",
          "Graduate",
          "Not Graduate",
          "Graduate",
          "Graduate",
          "Graduate",
          "Graduate",
          "Graduate",
          "Graduate",
          "Not Graduate",
          "Not Graduate",
          "Graduate",
          "Graduate",
          "Graduate",
          "Graduate",
          "Graduate",
          "Graduate",
          "Not Graduate",
          "Not Graduate",
          "Graduate",
          "Not Graduate",
          "Graduate",
          "Graduate",
          "Graduate",
          "Not Graduate",
          "Graduate",
          "Not Graduate",
          "Graduate",
          "Graduate",
          "Graduate",
          "Graduate",
          "Graduate",
          "Graduate",
          "Not Graduate",
          "Graduate",
          "Graduate",
          "Not Graduate",
          "Not Graduate",
          "Graduate",
          "Graduate",
          "Graduate",
          "Not Graduate",
          "Not Graduate",
          "Not Graduate",
          "Graduate",
          "Graduate",
          "Not Graduate",
          "Graduate",
          "Not Graduate",
          "Graduate",
          "Graduate",
          "Graduate",
          "Graduate",
          "Not Graduate",
          "Not Graduate",
          "Graduate",
          "Graduate",
          "Graduate",
          "Graduate",
          "Not Graduate",
          "Graduate",
          "Not Graduate",
          "Graduate",
          "Graduate",
          "Graduate",
          "Graduate",
          "Graduate",
          "Graduate",
          "Graduate",
          "Not Graduate",
          "Graduate",
          "Not Graduate",
          "Graduate",
          "Graduate",
          "Not Graduate",
          "Graduate",
          "Not Graduate",
          "Graduate",
          "Graduate",
          "Graduate",
          "Not Graduate",
          "Graduate",
          "Not Graduate",
          "Graduate",
          "Graduate",
          "Not Graduate",
          "Graduate",
          "Graduate",
          "Graduate",
          "Graduate",
          "Graduate",
          "Graduate",
          "Not Graduate",
          "Graduate",
          "Graduate",
          "Graduate",
          "Graduate",
          "Graduate",
          "Graduate",
          "Graduate",
          "Graduate",
          "Not Graduate",
          "Graduate",
          "Graduate",
          "Not Graduate",
          "Graduate"
         ],
         "xaxis": "x",
         "yaxis": "y"
        }
       ],
       "layout": {
        "autosize": true,
        "barmode": "relative",
        "legend": {
         "title": {
          "text": "Loan_Status"
         },
         "tracegroupgap": 0
        },
        "template": {
         "data": {
          "bar": [
           {
            "error_x": {
             "color": "#2a3f5f"
            },
            "error_y": {
             "color": "#2a3f5f"
            },
            "marker": {
             "line": {
              "color": "#E5ECF6",
              "width": 0.5
             },
             "pattern": {
              "fillmode": "overlay",
              "size": 10,
              "solidity": 0.2
             }
            },
            "type": "bar"
           }
          ],
          "barpolar": [
           {
            "marker": {
             "line": {
              "color": "#E5ECF6",
              "width": 0.5
             },
             "pattern": {
              "fillmode": "overlay",
              "size": 10,
              "solidity": 0.2
             }
            },
            "type": "barpolar"
           }
          ],
          "carpet": [
           {
            "aaxis": {
             "endlinecolor": "#2a3f5f",
             "gridcolor": "white",
             "linecolor": "white",
             "minorgridcolor": "white",
             "startlinecolor": "#2a3f5f"
            },
            "baxis": {
             "endlinecolor": "#2a3f5f",
             "gridcolor": "white",
             "linecolor": "white",
             "minorgridcolor": "white",
             "startlinecolor": "#2a3f5f"
            },
            "type": "carpet"
           }
          ],
          "choropleth": [
           {
            "colorbar": {
             "outlinewidth": 0,
             "ticks": ""
            },
            "type": "choropleth"
           }
          ],
          "contour": [
           {
            "colorbar": {
             "outlinewidth": 0,
             "ticks": ""
            },
            "colorscale": [
             [
              0,
              "#0d0887"
             ],
             [
              0.1111111111111111,
              "#46039f"
             ],
             [
              0.2222222222222222,
              "#7201a8"
             ],
             [
              0.3333333333333333,
              "#9c179e"
             ],
             [
              0.4444444444444444,
              "#bd3786"
             ],
             [
              0.5555555555555556,
              "#d8576b"
             ],
             [
              0.6666666666666666,
              "#ed7953"
             ],
             [
              0.7777777777777778,
              "#fb9f3a"
             ],
             [
              0.8888888888888888,
              "#fdca26"
             ],
             [
              1,
              "#f0f921"
             ]
            ],
            "type": "contour"
           }
          ],
          "contourcarpet": [
           {
            "colorbar": {
             "outlinewidth": 0,
             "ticks": ""
            },
            "type": "contourcarpet"
           }
          ],
          "heatmap": [
           {
            "colorbar": {
             "outlinewidth": 0,
             "ticks": ""
            },
            "colorscale": [
             [
              0,
              "#0d0887"
             ],
             [
              0.1111111111111111,
              "#46039f"
             ],
             [
              0.2222222222222222,
              "#7201a8"
             ],
             [
              0.3333333333333333,
              "#9c179e"
             ],
             [
              0.4444444444444444,
              "#bd3786"
             ],
             [
              0.5555555555555556,
              "#d8576b"
             ],
             [
              0.6666666666666666,
              "#ed7953"
             ],
             [
              0.7777777777777778,
              "#fb9f3a"
             ],
             [
              0.8888888888888888,
              "#fdca26"
             ],
             [
              1,
              "#f0f921"
             ]
            ],
            "type": "heatmap"
           }
          ],
          "histogram": [
           {
            "marker": {
             "pattern": {
              "fillmode": "overlay",
              "size": 10,
              "solidity": 0.2
             }
            },
            "type": "histogram"
           }
          ],
          "histogram2d": [
           {
            "colorbar": {
             "outlinewidth": 0,
             "ticks": ""
            },
            "colorscale": [
             [
              0,
              "#0d0887"
             ],
             [
              0.1111111111111111,
              "#46039f"
             ],
             [
              0.2222222222222222,
              "#7201a8"
             ],
             [
              0.3333333333333333,
              "#9c179e"
             ],
             [
              0.4444444444444444,
              "#bd3786"
             ],
             [
              0.5555555555555556,
              "#d8576b"
             ],
             [
              0.6666666666666666,
              "#ed7953"
             ],
             [
              0.7777777777777778,
              "#fb9f3a"
             ],
             [
              0.8888888888888888,
              "#fdca26"
             ],
             [
              1,
              "#f0f921"
             ]
            ],
            "type": "histogram2d"
           }
          ],
          "histogram2dcontour": [
           {
            "colorbar": {
             "outlinewidth": 0,
             "ticks": ""
            },
            "colorscale": [
             [
              0,
              "#0d0887"
             ],
             [
              0.1111111111111111,
              "#46039f"
             ],
             [
              0.2222222222222222,
              "#7201a8"
             ],
             [
              0.3333333333333333,
              "#9c179e"
             ],
             [
              0.4444444444444444,
              "#bd3786"
             ],
             [
              0.5555555555555556,
              "#d8576b"
             ],
             [
              0.6666666666666666,
              "#ed7953"
             ],
             [
              0.7777777777777778,
              "#fb9f3a"
             ],
             [
              0.8888888888888888,
              "#fdca26"
             ],
             [
              1,
              "#f0f921"
             ]
            ],
            "type": "histogram2dcontour"
           }
          ],
          "mesh3d": [
           {
            "colorbar": {
             "outlinewidth": 0,
             "ticks": ""
            },
            "type": "mesh3d"
           }
          ],
          "parcoords": [
           {
            "line": {
             "colorbar": {
              "outlinewidth": 0,
              "ticks": ""
             }
            },
            "type": "parcoords"
           }
          ],
          "pie": [
           {
            "automargin": true,
            "type": "pie"
           }
          ],
          "scatter": [
           {
            "fillpattern": {
             "fillmode": "overlay",
             "size": 10,
             "solidity": 0.2
            },
            "type": "scatter"
           }
          ],
          "scatter3d": [
           {
            "line": {
             "colorbar": {
              "outlinewidth": 0,
              "ticks": ""
             }
            },
            "marker": {
             "colorbar": {
              "outlinewidth": 0,
              "ticks": ""
             }
            },
            "type": "scatter3d"
           }
          ],
          "scattercarpet": [
           {
            "marker": {
             "colorbar": {
              "outlinewidth": 0,
              "ticks": ""
             }
            },
            "type": "scattercarpet"
           }
          ],
          "scattergeo": [
           {
            "marker": {
             "colorbar": {
              "outlinewidth": 0,
              "ticks": ""
             }
            },
            "type": "scattergeo"
           }
          ],
          "scattergl": [
           {
            "marker": {
             "colorbar": {
              "outlinewidth": 0,
              "ticks": ""
             }
            },
            "type": "scattergl"
           }
          ],
          "scattermap": [
           {
            "marker": {
             "colorbar": {
              "outlinewidth": 0,
              "ticks": ""
             }
            },
            "type": "scattermap"
           }
          ],
          "scattermapbox": [
           {
            "marker": {
             "colorbar": {
              "outlinewidth": 0,
              "ticks": ""
             }
            },
            "type": "scattermapbox"
           }
          ],
          "scatterpolar": [
           {
            "marker": {
             "colorbar": {
              "outlinewidth": 0,
              "ticks": ""
             }
            },
            "type": "scatterpolar"
           }
          ],
          "scatterpolargl": [
           {
            "marker": {
             "colorbar": {
              "outlinewidth": 0,
              "ticks": ""
             }
            },
            "type": "scatterpolargl"
           }
          ],
          "scatterternary": [
           {
            "marker": {
             "colorbar": {
              "outlinewidth": 0,
              "ticks": ""
             }
            },
            "type": "scatterternary"
           }
          ],
          "surface": [
           {
            "colorbar": {
             "outlinewidth": 0,
             "ticks": ""
            },
            "colorscale": [
             [
              0,
              "#0d0887"
             ],
             [
              0.1111111111111111,
              "#46039f"
             ],
             [
              0.2222222222222222,
              "#7201a8"
             ],
             [
              0.3333333333333333,
              "#9c179e"
             ],
             [
              0.4444444444444444,
              "#bd3786"
             ],
             [
              0.5555555555555556,
              "#d8576b"
             ],
             [
              0.6666666666666666,
              "#ed7953"
             ],
             [
              0.7777777777777778,
              "#fb9f3a"
             ],
             [
              0.8888888888888888,
              "#fdca26"
             ],
             [
              1,
              "#f0f921"
             ]
            ],
            "type": "surface"
           }
          ],
          "table": [
           {
            "cells": {
             "fill": {
              "color": "#EBF0F8"
             },
             "line": {
              "color": "white"
             }
            },
            "header": {
             "fill": {
              "color": "#C8D4E3"
             },
             "line": {
              "color": "white"
             }
            },
            "type": "table"
           }
          ]
         },
         "layout": {
          "annotationdefaults": {
           "arrowcolor": "#2a3f5f",
           "arrowhead": 0,
           "arrowwidth": 1
          },
          "autotypenumbers": "strict",
          "coloraxis": {
           "colorbar": {
            "outlinewidth": 0,
            "ticks": ""
           }
          },
          "colorscale": {
           "diverging": [
            [
             0,
             "#8e0152"
            ],
            [
             0.1,
             "#c51b7d"
            ],
            [
             0.2,
             "#de77ae"
            ],
            [
             0.3,
             "#f1b6da"
            ],
            [
             0.4,
             "#fde0ef"
            ],
            [
             0.5,
             "#f7f7f7"
            ],
            [
             0.6,
             "#e6f5d0"
            ],
            [
             0.7,
             "#b8e186"
            ],
            [
             0.8,
             "#7fbc41"
            ],
            [
             0.9,
             "#4d9221"
            ],
            [
             1,
             "#276419"
            ]
           ],
           "sequential": [
            [
             0,
             "#0d0887"
            ],
            [
             0.1111111111111111,
             "#46039f"
            ],
            [
             0.2222222222222222,
             "#7201a8"
            ],
            [
             0.3333333333333333,
             "#9c179e"
            ],
            [
             0.4444444444444444,
             "#bd3786"
            ],
            [
             0.5555555555555556,
             "#d8576b"
            ],
            [
             0.6666666666666666,
             "#ed7953"
            ],
            [
             0.7777777777777778,
             "#fb9f3a"
            ],
            [
             0.8888888888888888,
             "#fdca26"
            ],
            [
             1,
             "#f0f921"
            ]
           ],
           "sequentialminus": [
            [
             0,
             "#0d0887"
            ],
            [
             0.1111111111111111,
             "#46039f"
            ],
            [
             0.2222222222222222,
             "#7201a8"
            ],
            [
             0.3333333333333333,
             "#9c179e"
            ],
            [
             0.4444444444444444,
             "#bd3786"
            ],
            [
             0.5555555555555556,
             "#d8576b"
            ],
            [
             0.6666666666666666,
             "#ed7953"
            ],
            [
             0.7777777777777778,
             "#fb9f3a"
            ],
            [
             0.8888888888888888,
             "#fdca26"
            ],
            [
             1,
             "#f0f921"
            ]
           ]
          },
          "colorway": [
           "#636efa",
           "#EF553B",
           "#00cc96",
           "#ab63fa",
           "#FFA15A",
           "#19d3f3",
           "#FF6692",
           "#B6E880",
           "#FF97FF",
           "#FECB52"
          ],
          "font": {
           "color": "#2a3f5f"
          },
          "geo": {
           "bgcolor": "white",
           "lakecolor": "white",
           "landcolor": "#E5ECF6",
           "showlakes": true,
           "showland": true,
           "subunitcolor": "white"
          },
          "hoverlabel": {
           "align": "left"
          },
          "hovermode": "closest",
          "mapbox": {
           "style": "light"
          },
          "paper_bgcolor": "white",
          "plot_bgcolor": "#E5ECF6",
          "polar": {
           "angularaxis": {
            "gridcolor": "white",
            "linecolor": "white",
            "ticks": ""
           },
           "bgcolor": "#E5ECF6",
           "radialaxis": {
            "gridcolor": "white",
            "linecolor": "white",
            "ticks": ""
           }
          },
          "scene": {
           "xaxis": {
            "backgroundcolor": "#E5ECF6",
            "gridcolor": "white",
            "gridwidth": 2,
            "linecolor": "white",
            "showbackground": true,
            "ticks": "",
            "zerolinecolor": "white"
           },
           "yaxis": {
            "backgroundcolor": "#E5ECF6",
            "gridcolor": "white",
            "gridwidth": 2,
            "linecolor": "white",
            "showbackground": true,
            "ticks": "",
            "zerolinecolor": "white"
           },
           "zaxis": {
            "backgroundcolor": "#E5ECF6",
            "gridcolor": "white",
            "gridwidth": 2,
            "linecolor": "white",
            "showbackground": true,
            "ticks": "",
            "zerolinecolor": "white"
           }
          },
          "shapedefaults": {
           "line": {
            "color": "#2a3f5f"
           }
          },
          "ternary": {
           "aaxis": {
            "gridcolor": "white",
            "linecolor": "white",
            "ticks": ""
           },
           "baxis": {
            "gridcolor": "white",
            "linecolor": "white",
            "ticks": ""
           },
           "bgcolor": "#E5ECF6",
           "caxis": {
            "gridcolor": "white",
            "linecolor": "white",
            "ticks": ""
           }
          },
          "title": {
           "x": 0.05
          },
          "xaxis": {
           "automargin": true,
           "gridcolor": "white",
           "linecolor": "white",
           "ticks": "",
           "title": {
            "standoff": 15
           },
           "zerolinecolor": "white",
           "zerolinewidth": 2
          },
          "yaxis": {
           "automargin": true,
           "gridcolor": "white",
           "linecolor": "white",
           "ticks": "",
           "title": {
            "standoff": 15
           },
           "zerolinecolor": "white",
           "zerolinewidth": 2
          }
         }
        },
        "title": {
         "text": "Loan Approval by Education Level"
        },
        "xaxis": {
         "anchor": "y",
         "autorange": true,
         "categoryarray": [
          "Not Graduate",
          "Graduate"
         ],
         "categoryorder": "array",
         "domain": [
          0,
          1
         ],
         "range": [
          -0.5,
          1.5
         ],
         "title": {
          "text": "Education"
         },
         "type": "category"
        },
        "yaxis": {
         "anchor": "x",
         "autorange": true,
         "domain": [
          0,
          1
         ],
         "range": [
          0,
          505.2631578947368
         ],
         "title": {
          "text": "count"
         }
        }
       }
      },
      "image/png": "[encoded data removed]"
     },
     "metadata": {},
     "output_type": "display_data"
    }
   ],
   "source": [
    "fig4 = px.histogram(df, x='Education', color='Loan_Status', \n",
    "                    title='Loan Approval by Education Level',\n",
    "                    color_discrete_map={'Y': '#2a9d8f', 'N': '#e76f51'},\n",
    "                    category_orders={'Education': ['Not Graduate', 'Graduate']})\n",
    "fig4.show()"
   ]
  },
  {
   "cell_type": "markdown",
   "id": "649ffb57-138a-45bd-b23f-df8cc90737a4",
   "metadata": {},
   "source": [
    "# Data preprocessing"
   ]
  },
  {
   "cell_type": "code",
   "execution_count": 46,
   "id": "075407da-4c7f-4a1f-aa88-efdd93bfec55",
   "metadata": {},
   "outputs": [],
   "source": [
    "# Separate features and target\n",
    "X = df.drop('Loan_Status', axis=1)\n",
    "y = df['Loan_Status'].map({'Y': 1, 'N': 0})  # Convert to binary\n",
    "\n",
    "# Identify numerical and categorical columns\n",
    "num_cols = X.select_dtypes(include=['int64', 'float64']).columns\n",
    "cat_cols = X.select_dtypes(include=['object']).columns\n",
    "\n",
    "# Create preprocessing pipelines\n",
    "num_pipeline = Pipeline([\n",
    "    ('imputer', SimpleImputer(strategy='median')),\n",
    "    ('scaler', StandardScaler())\n",
    "])\n",
    "\n",
    "cat_pipeline = Pipeline([\n",
    "    ('imputer', SimpleImputer(strategy='most_frequent')),\n",
    "    ('onehot', OneHotEncoder(handle_unknown='ignore'))\n",
    "])\n",
    "\n",
    "# Combine pipelines\n",
    "preprocessor = ColumnTransformer([\n",
    "    ('num', num_pipeline, num_cols),\n",
    "    ('cat', cat_pipeline, cat_cols)\n",
    "])\n",
    "\n",
    "# Split data\n",
    "X_train, X_test, y_train, y_test = train_test_split(X, y, test_size=0.2, random_state=42, stratify=y)"
   ]
  },
  {
   "cell_type": "markdown",
   "id": "54d4346e-f96f-476e-9b02-0edd8a099ba2",
   "metadata": {},
   "source": [
    "# Model Building and Evaluation"
   ]
  },
  {
   "cell_type": "code",
   "execution_count": 47,
   "id": "c9717ea6-d091-4d1d-bbc2-442bbd85df48",
   "metadata": {},
   "outputs": [
    {
     "name": "stdout",
     "output_type": "stream",
     "text": [
      "Logistic Regression Performance:\n",
      "              precision    recall  f1-score   support\n",
      "\n",
      "           0       0.96      0.58      0.72        38\n",
      "           1       0.84      0.99      0.91        85\n",
      "\n",
      "    accuracy                           0.86       123\n",
      "   macro avg       0.90      0.78      0.81       123\n",
      "weighted avg       0.88      0.86      0.85       123\n",
      "\n",
      "Confusion Matrix:\n",
      " [[22 16]\n",
      " [ 1 84]]\n",
      "\n",
      "Decision Tree Performance:\n",
      "              precision    recall  f1-score   support\n",
      "\n",
      "           0       0.72      0.61      0.66        38\n",
      "           1       0.84      0.89      0.86        85\n",
      "\n",
      "    accuracy                           0.80       123\n",
      "   macro avg       0.78      0.75      0.76       123\n",
      "weighted avg       0.80      0.80      0.80       123\n",
      "\n",
      "Confusion Matrix:\n",
      " [[23 15]\n",
      " [ 9 76]]\n"
     ]
    }
   ],
   "source": [
    "#Baseline Models (Without Handling Imbalance) \n",
    "# Logistic Regression\n",
    "lr_pipe = Pipeline([\n",
    "    ('preprocessor', preprocessor),\n",
    "    ('classifier', LogisticRegression(random_state=42))\n",
    "])\n",
    "\n",
    "lr_pipe.fit(X_train, y_train)\n",
    "y_pred_lr = lr_pipe.predict(X_test)\n",
    "\n",
    "print(\"Logistic Regression Performance:\")\n",
    "print(classification_report(y_test, y_pred_lr))\n",
    "print(\"Confusion Matrix:\\n\", confusion_matrix(y_test, y_pred_lr))\n",
    "\n",
    "# Decision Tree\n",
    "dt_pipe = Pipeline([\n",
    "    ('preprocessor', preprocessor),\n",
    "    ('classifier', DecisionTreeClassifier(random_state=42))\n",
    "])\n",
    "\n",
    "dt_pipe.fit(X_train, y_train)\n",
    "y_pred_dt = dt_pipe.predict(X_test)\n",
    "\n",
    "print(\"\\nDecision Tree Performance:\")\n",
    "print(classification_report(y_test, y_pred_dt))\n",
    "print(\"Confusion Matrix:\\n\", confusion_matrix(y_test, y_pred_dt))"
   ]
  },
  {
   "cell_type": "markdown",
   "id": "96093043-0700-4b03-8476-b29a6452183e",
   "metadata": {},
   "source": [
    "# Models with SMOTE for Handling Class Imbalance"
   ]
  },
  {
   "cell_type": "code",
   "execution_count": 48,
   "id": "0962be26-ecb0-4c2d-b52b-315b232e817a",
   "metadata": {},
   "outputs": [
    {
     "name": "stdout",
     "output_type": "stream",
     "text": [
      "Logistic Regression with SMOTE Performance:\n",
      "              precision    recall  f1-score   support\n",
      "\n",
      "           0       0.89      0.66      0.76        38\n",
      "           1       0.86      0.96      0.91        85\n",
      "\n",
      "    accuracy                           0.87       123\n",
      "   macro avg       0.88      0.81      0.83       123\n",
      "weighted avg       0.87      0.87      0.86       123\n",
      "\n",
      "Confusion Matrix:\n",
      " [[25 13]\n",
      " [ 3 82]]\n",
      "\n",
      "Decision Tree with SMOTE Performance:\n",
      "              precision    recall  f1-score   support\n",
      "\n",
      "           0       0.81      0.68      0.74        38\n",
      "           1       0.87      0.93      0.90        85\n",
      "\n",
      "    accuracy                           0.85       123\n",
      "   macro avg       0.84      0.81      0.82       123\n",
      "weighted avg       0.85      0.85      0.85       123\n",
      "\n",
      "Confusion Matrix:\n",
      " [[26 12]\n",
      " [ 6 79]]\n"
     ]
    }
   ],
   "source": [
    "# Logistic Regression with SMOTE\n",
    "lr_smote_pipe = make_imb_pipeline(\n",
    "    preprocessor,\n",
    "    SMOTE(random_state=42),\n",
    "    LogisticRegression(random_state=42)\n",
    ")\n",
    "\n",
    "lr_smote_pipe.fit(X_train, y_train)\n",
    "y_pred_lr_smote = lr_smote_pipe.predict(X_test)\n",
    "\n",
    "print(\"Logistic Regression with SMOTE Performance:\")\n",
    "print(classification_report(y_test, y_pred_lr_smote))\n",
    "print(\"Confusion Matrix:\\n\", confusion_matrix(y_test, y_pred_lr_smote))\n",
    "\n",
    "# Decision Tree with SMOTE\n",
    "dt_smote_pipe = make_imb_pipeline(\n",
    "    preprocessor,\n",
    "    SMOTE(random_state=42),\n",
    "    DecisionTreeClassifier(random_state=42)\n",
    ")\n",
    "\n",
    "dt_smote_pipe.fit(X_train, y_train)\n",
    "y_pred_dt_smote = dt_smote_pipe.predict(X_test)\n",
    "\n",
    "print(\"\\nDecision Tree with SMOTE Performance:\")\n",
    "print(classification_report(y_test, y_pred_dt_smote))\n",
    "print(\"Confusion Matrix:\\n\", confusion_matrix(y_test, y_pred_dt_smote))"
   ]
  },
  {
   "cell_type": "markdown",
   "id": "0de2171c-8a9d-446d-a301-7819635cfd24",
   "metadata": {},
   "source": [
    "# Model Comparison and Selection"
   ]
  },
  {
   "cell_type": "code",
   "execution_count": 50,
   "id": "c8de571e-eec3-46b1-b913-26832c045139",
   "metadata": {},
   "outputs": [
    {
     "name": "stdout",
     "output_type": "stream",
     "text": [
      "\n",
      "Model Comparison:\n",
      "                         Model  Precision    Recall  F1-Score\n",
      "2  Logistic Regression + SMOTE   0.863158  0.964706  0.911111\n",
      "0          Logistic Regression   0.840000  0.988235  0.908108\n",
      "3        Decision Tree + SMOTE   0.868132  0.929412  0.897727\n",
      "1                Decision Tree   0.835165  0.894118  0.863636\n"
     ]
    }
   ],
   "source": [
    "# Compare all models\n",
    "models = {\n",
    "    'Logistic Regression': y_pred_lr,\n",
    "    'Decision Tree': y_pred_dt,\n",
    "    'Logistic Regression + SMOTE': y_pred_lr_smote,\n",
    "    'Decision Tree + SMOTE': y_pred_dt_smote\n",
    "}\n",
    "\n",
    "results = []\n",
    "for name, preds in models.items():\n",
    "    results.append({\n",
    "        'Model': name,\n",
    "        'Precision': precision_score(y_test, preds),\n",
    "        'Recall': recall_score(y_test, preds),\n",
    "        'F1-Score': f1_score(y_test, preds)\n",
    "    })\n",
    "\n",
    "results_df = pd.DataFrame(results)\n",
    "print(\"\\nModel Comparison:\")\n",
    "print(results_df.sort_values('F1-Score', ascending=False))"
   ]
  },
  {
   "cell_type": "markdown",
   "id": "980e7c9e-63cc-492b-b9ff-5863aa70033c",
   "metadata": {},
   "source": [
    "# Feature Importance Analysis"
   ]
  },
  {
   "cell_type": "code",
   "execution_count": 52,
   "id": "bf9fa5f0-789a-4aa3-a055-086fc6a9dd11",
   "metadata": {},
   "outputs": [
    {
     "data": {
      "image/png": "[encoded data removed]",
      "text/plain": [
       "<Figure size 1000x600 with 1 Axes>"
      ]
     },
     "metadata": {},
     "output_type": "display_data"
    }
   ],
   "source": [
    "# For the best performing model (assuming it's Decision Tree with SMOTE)\n",
    "best_model = dt_smote_pipe.named_steps['decisiontreeclassifier']\n",
    "feature_names = (num_cols.tolist() + \n",
    "                dt_smote_pipe.named_steps['columntransformer']\n",
    "                .named_transformers_['cat']\n",
    "                .named_steps['onehot']\n",
    "                .get_feature_names_out(cat_cols).tolist())\n",
    "\n",
    "feature_importance = pd.DataFrame({\n",
    "    'Feature': feature_names,\n",
    "    'Importance': best_model.feature_importances_\n",
    "}).sort_values('Importance', ascending=False)\n",
    "\n",
    "plt.figure(figsize=(10, 6))\n",
    "sns.barplot(x='Importance', y='Feature', data=feature_importance.head(10))\n",
    "plt.title('Top 10 Important Features')\n",
    "plt.show()"
   ]
  },
  {
   "cell_type": "code",
   "execution_count": null,
   "id": "9b447382-c7be-4a5c-8c8f-e6bf446c7081",
   "metadata": {},
   "outputs": [],
   "source": []
  }
 ],
 "metadata": {
  "kernelspec": {
   "display_name": "Python 3 (ipykernel)",
   "language": "python",
   "name": "python3"
  },
  "language_info": {
   "codemirror_mode": {
    "name": "ipython",
    "version": 3
   },
   "file_extension": ".py",
   "mimetype": "text/x-python",
   "name": "python",
   "nbconvert_exporter": "python",
   "pygments_lexer": "ipython3",
   "version": "3.11.7"
  }
 },
 "nbformat": 4,
 "nbformat_minor": 5
}
